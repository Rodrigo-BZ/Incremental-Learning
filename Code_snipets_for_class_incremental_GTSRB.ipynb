{
  "cells": [
    {
      "cell_type": "markdown",
      "source": [
        "\n",
        "\n",
        "---\n",
        "\n",
        "\n",
        "# Class incremental learning on the GTSRB dataset\n",
        "\n",
        "\n",
        "\n",
        "---\n",
        "\n",
        "\n",
        "This notebook contains several code snippets to help for your project:\n",
        "\n",
        "- data loaders\n",
        "- A baseline for incremental learning using fine-tuning\n",
        "- Examples of how to use Weight & Biases for logging your results.\n",
        "\n"
      ],
      "metadata": {
        "id": "ZQjHV8nwSu0E"
      }
    },
    {
      "cell_type": "code",
      "execution_count": 5,
      "metadata": {
        "id": "c6J4ap8k7k79"
      },
      "outputs": [],
      "source": [
        "####################################\n",
        "### Useful imports\n",
        "############################\n",
        "\n",
        "import torch\n",
        "import torch.nn as nn\n",
        "import torch.nn.init as init\n",
        "import torch.optim as optim\n",
        "import torch.nn.functional as F\n",
        "from torch.utils.data import DataLoader, ConcatDataset, Subset\n",
        "from torchvision.utils import make_grid\n",
        "from torchvision import transforms, datasets\n",
        "import torchvision.models as models\n",
        "from torchvision.transforms import v2\n",
        "import copy\n",
        "\n",
        "import numpy as np\n",
        "import random\n",
        "import time, os\n",
        "import matplotlib.pyplot as plt\n",
        "from PIL import Image\n",
        "from tqdm import tqdm\n",
        "import pandas as pd\n",
        "import math\n",
        "\n",
        "device = torch.device(\"cuda:0\" if torch.cuda.is_available() else \"cpu\")\n"
      ]
    },
    {
      "cell_type": "code",
      "execution_count": 6,
      "metadata": {
        "colab": {
          "base_uri": "https://localhost:8080/"
        },
        "id": "BdBUgULZ-75F",
        "outputId": "d56a09e1-28c9-4e76-d7ef-4b9bde7c3381"
      },
      "outputs": [
        {
          "output_type": "stream",
          "name": "stdout",
          "text": [
            "Mounted at /content/gdrive/\n"
          ]
        }
      ],
      "source": [
        "# Useful if you want to store intermediate results on your drive\n",
        "from google.colab import drive\n",
        "\n",
        "drive.mount('/content/gdrive/')\n",
        "DATA_DIR =  '/content/gdrive/MyDrive/teaching/ENSTA/2024'\n"
      ]
    },
    {
      "cell_type": "code",
      "execution_count": 7,
      "metadata": {
        "id": "mLLmoj5nhhli"
      },
      "outputs": [],
      "source": [
        "# Check if GPU is available\n",
        "if torch.cuda.is_available():\n",
        "  !nvidia-smi"
      ]
    },
    {
      "cell_type": "markdown",
      "source": [
        "## Data loaders"
      ],
      "metadata": {
        "id": "zdRoUYxVqicA"
      }
    },
    {
      "cell_type": "code",
      "execution_count": 8,
      "metadata": {
        "id": "5yjcnoUN7xVJ"
      },
      "outputs": [],
      "source": [
        "# Define transformations\n",
        "transform_train = transforms.Compose([\n",
        "    transforms.RandomResizedCrop(32),\n",
        "    transforms.RandomHorizontalFlip(),\n",
        "    transforms.ToTensor(),\n",
        "    #transforms.Normalize((0.3403, 0.3121, 0.3214), (0.2724, 0.2608, 0.2669)) # GTSRB stats\n",
        "])\n",
        "\n",
        "transform_test = transforms.Compose([\n",
        "    transforms.Resize(32),\n",
        "    transforms.ToTensor(),\n",
        "    #transforms.Normalize((0.3403, 0.3121, 0.3214), (0.2724, 0.2608, 0.2669))\n",
        "])\n",
        "\n",
        "transform_train = v2.Compose([\n",
        "    #v2.Grayscale(),\n",
        "    #v2.RandomResizedCrop(32),\n",
        "    v2.Resize((32,32)),\n",
        "    v2.ToImage(),\n",
        "    v2.ToDtype(torch.float32, scale=True),\n",
        "    #v2.Normalize((0.3403, 0.3121, 0.3214), (0.2724, 0.2608, 0.2669)) # GTSRB stats\n",
        "])\n",
        "\n",
        "transform_test = v2.Compose([\n",
        "    #v2.Grayscale(),\n",
        "    v2.Resize((32,32)),\n",
        "    v2.ToImage(),\n",
        "    v2.ToDtype(torch.float32, scale=True),\n",
        "    #v2.Normalize((0.3403, 0.3121, 0.3214), (0.2724, 0.2608, 0.2669)) # GTSRB stats\n",
        "])\n",
        "\n",
        "# Define dataset and dataloader\n",
        "def get_dataset(root_dir, transform, train=True):\n",
        "    dataset = datasets.GTSRB(root=root_dir, split='train' if train else 'test', download=True, transform=transform)\n",
        "    target = [data[1] for data in dataset]\n",
        "    return dataset, target\n",
        "\n",
        "def create_dataloader(dataset, targets, current_classes, batch_size, shuffle):\n",
        "    indices = [i for i, label in enumerate(targets) if label in current_classes]\n",
        "    subset = Subset(dataset, indices)\n",
        "    dataloader = DataLoader(subset, batch_size=batch_size, shuffle=shuffle)\n",
        "    return dataloader\n"
      ]
    },
    {
      "cell_type": "code",
      "source": [
        "# Loads datasets (on your local computer)\n",
        "root_dir = '/home/rodri/OneDrive/Documentos/ENSTA/2A/ML/Incremental-Learning/'\n",
        "\n",
        "# Loads datasets (on Colab local computer)\n",
        "root_dir = './data'\n",
        "\n",
        "train_dataset = datasets.GTSRB(root=root_dir, split='train', download=True, transform=transform_train)\n",
        "test_dataset = datasets.GTSRB(root=root_dir, split='test', download=True, transform=transform_test)\n",
        "\n",
        "print(f\"Train dataset contains {len(train_dataset)} images\")\n",
        "print(f\"Test dataset contains {len(test_dataset)} images\")\n",
        "\n",
        "# Loads target id lists (not in torchvision dataset)rm *.\n",
        "import csv\n",
        "! wget https://raw.githubusercontent.com/stepherbin/teaching/refs/heads/master/ENSTA/MI201/test_target.csv -O data/gtsrb/test_target.csv\n",
        "test_target=[]\n",
        "with open('data/gtsrb/test_target.csv') as f:\n",
        "    reader = csv.reader(f)\n",
        "    for row in reader:\n",
        "        test_target += [int(el) for el in row]\n",
        "\n",
        "! wget https://raw.githubusercontent.com/stepherbin/teaching/refs/heads/master/ENSTA/MI201/train_target.csv -O data/gtsrb/train_target.csv\n",
        "train_target=[]\n",
        "with open('data/gtsrb/train_target.csv') as f:\n",
        "    reader = csv.reader(f)\n",
        "    for row in reader:\n",
        "        train_target += [int(el) for el in row]\n",
        "\n",
        "# Loads class names (not in torchvision dataset)\n",
        "! wget https://raw.githubusercontent.com/stepherbin/teaching/refs/heads/master/ENSTA/MI201/signnames.csv -O data/gtsrb/signnames.csv\n",
        "classes = pd.read_csv('data/gtsrb/signnames.csv')\n",
        "class_names = []\n",
        "for i, row in classes.iterrows():\n",
        "    class_names.append(row[1])"
      ],
      "metadata": {
        "colab": {
          "base_uri": "https://localhost:8080/"
        },
        "id": "KbdRiiin8q6n",
        "outputId": "870a245b-17fb-42b1-ee22-92240a9b8272"
      },
      "execution_count": 9,
      "outputs": [
        {
          "output_type": "stream",
          "name": "stdout",
          "text": [
            "Downloading https://sid.erda.dk/public/archives/daaeac0d7ce1152aea9b61d9f1e19370/GTSRB-Training_fixed.zip to data/gtsrb/GTSRB-Training_fixed.zip\n"
          ]
        },
        {
          "output_type": "stream",
          "name": "stderr",
          "text": [
            "100%|██████████| 187M/187M [00:07<00:00, 23.7MB/s]\n"
          ]
        },
        {
          "output_type": "stream",
          "name": "stdout",
          "text": [
            "Extracting data/gtsrb/GTSRB-Training_fixed.zip to data/gtsrb\n",
            "Downloading https://sid.erda.dk/public/archives/daaeac0d7ce1152aea9b61d9f1e19370/GTSRB_Final_Test_Images.zip to data/gtsrb/GTSRB_Final_Test_Images.zip\n"
          ]
        },
        {
          "output_type": "stream",
          "name": "stderr",
          "text": [
            "100%|██████████| 89.0M/89.0M [00:04<00:00, 18.3MB/s]\n"
          ]
        },
        {
          "output_type": "stream",
          "name": "stdout",
          "text": [
            "Extracting data/gtsrb/GTSRB_Final_Test_Images.zip to data/gtsrb\n",
            "Downloading https://sid.erda.dk/public/archives/daaeac0d7ce1152aea9b61d9f1e19370/GTSRB_Final_Test_GT.zip to data/gtsrb/GTSRB_Final_Test_GT.zip\n"
          ]
        },
        {
          "output_type": "stream",
          "name": "stderr",
          "text": [
            "100%|██████████| 99.6k/99.6k [00:00<00:00, 232kB/s]\n"
          ]
        },
        {
          "output_type": "stream",
          "name": "stdout",
          "text": [
            "Extracting data/gtsrb/GTSRB_Final_Test_GT.zip to data/gtsrb\n",
            "Train dataset contains 26640 images\n",
            "Test dataset contains 12630 images\n",
            "--2025-01-31 14:09:20--  https://raw.githubusercontent.com/stepherbin/teaching/refs/heads/master/ENSTA/MI201/test_target.csv\n",
            "Resolving raw.githubusercontent.com (raw.githubusercontent.com)... 185.199.108.133, 185.199.109.133, 185.199.110.133, ...\n",
            "Connecting to raw.githubusercontent.com (raw.githubusercontent.com)|185.199.108.133|:443... connected.\n",
            "HTTP request sent, awaiting response... 200 OK\n",
            "Length: 33090 (32K) [text/plain]\n",
            "Saving to: ‘data/gtsrb/test_target.csv’\n",
            "\n",
            "data/gtsrb/test_tar 100%[===================>]  32.31K  --.-KB/s    in 0.007s  \n",
            "\n",
            "2025-01-31 14:09:20 (4.35 MB/s) - ‘data/gtsrb/test_target.csv’ saved [33090/33090]\n",
            "\n",
            "--2025-01-31 14:09:21--  https://raw.githubusercontent.com/stepherbin/teaching/refs/heads/master/ENSTA/MI201/train_target.csv\n",
            "Resolving raw.githubusercontent.com (raw.githubusercontent.com)... 185.199.109.133, 185.199.108.133, 185.199.110.133, ...\n",
            "Connecting to raw.githubusercontent.com (raw.githubusercontent.com)|185.199.109.133|:443... connected.\n",
            "HTTP request sent, awaiting response... 200 OK\n",
            "Length: 70020 (68K) [text/plain]\n",
            "Saving to: ‘data/gtsrb/train_target.csv’\n",
            "\n",
            "data/gtsrb/train_ta 100%[===================>]  68.38K  --.-KB/s    in 0.02s   \n",
            "\n",
            "2025-01-31 14:09:21 (4.17 MB/s) - ‘data/gtsrb/train_target.csv’ saved [70020/70020]\n",
            "\n",
            "--2025-01-31 14:09:21--  https://raw.githubusercontent.com/stepherbin/teaching/refs/heads/master/ENSTA/MI201/signnames.csv\n",
            "Resolving raw.githubusercontent.com (raw.githubusercontent.com)... 185.199.108.133, 185.199.109.133, 185.199.110.133, ...\n",
            "Connecting to raw.githubusercontent.com (raw.githubusercontent.com)|185.199.108.133|:443... connected.\n",
            "HTTP request sent, awaiting response... 200 OK\n",
            "Length: 999 [text/plain]\n",
            "Saving to: ‘data/gtsrb/signnames.csv’\n",
            "\n",
            "data/gtsrb/signname 100%[===================>]     999  --.-KB/s    in 0s      \n",
            "\n",
            "2025-01-31 14:09:22 (37.3 MB/s) - ‘data/gtsrb/signnames.csv’ saved [999/999]\n",
            "\n"
          ]
        },
        {
          "output_type": "stream",
          "name": "stderr",
          "text": [
            "<ipython-input-9-f5f0fd534a2f>:34: FutureWarning: Series.__getitem__ treating keys as positions is deprecated. In a future version, integer keys will always be treated as labels (consistent with DataFrame behavior). To access a value by position, use `ser.iloc[pos]`\n",
            "  class_names.append(row[1])\n"
          ]
        }
      ]
    },
    {
      "cell_type": "markdown",
      "source": [
        "## Display of images"
      ],
      "metadata": {
        "id": "G9om6EjQqqVD"
      }
    },
    {
      "cell_type": "code",
      "execution_count": 10,
      "metadata": {
        "colab": {
          "base_uri": "https://localhost:8080/",
          "height": 452
        },
        "id": "IIrmJhgmcL8u",
        "outputId": "8efb65b9-ca72-40d6-b917-6c6577a0ae72"
      },
      "outputs": [
        {
          "output_type": "display_data",
          "data": {
            "text/plain": [
              "<Figure size 640x480 with 1 Axes>"
            ],
            "image/png": "[encoded data removed]"
          },
          "metadata": {}
        },
        {
          "output_type": "stream",
          "name": "stdout",
          "text": [
            "torch.Size([64, 3, 32, 32])\n"
          ]
        }
      ],
      "source": [
        "nclasses = len(np.unique(train_target))\n",
        "all_classes = list(range(nclasses))\n",
        "#random.shuffle(all_classes)\n",
        "classes_per_task = 8\n",
        "current_classes = []\n",
        "\n",
        "task = 0\n",
        "task_classes = all_classes[task * classes_per_task : (task + 1) * classes_per_task]\n",
        "current_classes.extend(task_classes)\n",
        "batch_size = 64\n",
        "\n",
        "# Create data for first task\n",
        "train_loader = create_dataloader(train_dataset, train_target, current_classes, batch_size, shuffle = True)\n",
        "test_loader = create_dataloader(train_dataset, train_target, current_classes, batch_size, shuffle = True)\n",
        "\n",
        "# Displays a few examples\n",
        "def show(img):\n",
        "    npimg = img.numpy()\n",
        "    plt.imshow(np.transpose(npimg, (1,2,0)), interpolation='nearest')\n",
        "\n",
        "sample,targets = next(iter(train_loader))\n",
        "show(make_grid(sample))\n",
        "plt.show()\n",
        "\n",
        "print(sample.shape)     ## 64 is the batch\n",
        "                        ## 1 for grey values --  3 for RGB\n",
        "                        ## 32x32 for mage size (small here)\n"
      ]
    },
    {
      "cell_type": "code",
      "execution_count": 11,
      "metadata": {
        "colab": {
          "base_uri": "https://localhost:8080/"
        },
        "id": "RrkguKhbC4uo",
        "outputId": "75cecab5-4aa0-4931-c4c3-c88ed900a15b"
      },
      "outputs": [
        {
          "output_type": "stream",
          "name": "stdout",
          "text": [
            "750 \t 2 \t Speed limit (50km/h)\n",
            "720 \t 1 \t Speed limit (30km/h)\n",
            "720 \t 13 \t Yield\n",
            "690 \t 38 \t Keep right\n",
            "690 \t 12 \t Priority road\n",
            "660 \t 4 \t Speed limit (70km/h)\n",
            "660 \t 10 \t No passing for vechiles over 3.5 metric tons\n",
            "630 \t 5 \t Speed limit (80km/h)\n",
            "480 \t 25 \t Road work\n",
            "480 \t 9 \t No passing\n",
            "450 \t 7 \t Speed limit (100km/h)\n",
            "450 \t 3 \t Speed limit (60km/h)\n",
            "450 \t 8 \t Speed limit (120km/h)\n",
            "420 \t 11 \t Right-of-way at the next intersection\n",
            "390 \t 18 \t General caution\n",
            "390 \t 35 \t Ahead only\n",
            "360 \t 17 \t No entry\n",
            "270 \t 14 \t Stop\n",
            "270 \t 31 \t Wild animals crossing\n",
            "210 \t 33 \t Turn right ahead\n",
            "210 \t 15 \t No vechiles\n",
            "180 \t 26 \t Traffic signals\n",
            "150 \t 16 \t Vechiles over 3.5 metric tons prohibited\n",
            "150 \t 23 \t Slippery road\n",
            "150 \t 30 \t Beware of ice/snow\n",
            "150 \t 28 \t Children crossing\n",
            "150 \t 6 \t End of speed limit (80km/h)\n",
            "120 \t 34 \t Turn left ahead\n",
            "120 \t 22 \t Bumpy road\n",
            "120 \t 36 \t Go straight or right\n",
            "90 \t 21 \t Double curve\n",
            "90 \t 20 \t Dangerous curve to the right\n",
            "90 \t 24 \t Road narrows on the right\n",
            "90 \t 29 \t Bicycles crossing\n",
            "90 \t 40 \t Roundabout mandatory\n",
            "90 \t 39 \t Keep left\n",
            "90 \t 42 \t End of no passing by vechiles over 3.5 metric tons\n",
            "60 \t 27 \t Pedestrians\n",
            "60 \t 32 \t End of all speed and passing limits\n",
            "60 \t 41 \t End of no passing\n",
            "60 \t 19 \t Dangerous curve to the left\n",
            "60 \t 0 \t Speed limit (20km/h)\n",
            "60 \t 37 \t Go straight or left\n"
          ]
        }
      ],
      "source": [
        "test_loader = create_dataloader(train_dataset, train_target, all_classes, batch_size, shuffle = True)\n",
        "\n",
        "# Get the data from the test set and computes statistics\n",
        "# gtsrbtest_gt = []\n",
        "# for _, targets in test_loader:\n",
        "#   gtsrbtest_gt += targets.numpy().tolist()\n",
        "# print(len(gtsrbtest_gt))\n",
        "\n",
        "from collections import Counter\n",
        "\n",
        "label_counts = Counter(test_target).most_common()\n",
        "for l, c in label_counts:\n",
        "    print(c, '\\t', l, '\\t', class_names[l])"
      ]
    },
    {
      "cell_type": "markdown",
      "source": [
        "## Simple networks"
      ],
      "metadata": {
        "id": "SPAkBgRiqyyf"
      }
    },
    {
      "cell_type": "code",
      "execution_count": 12,
      "metadata": {
        "id": "0z2ycNRS-xnq"
      },
      "outputs": [],
      "source": [
        "# Define a simple CNN model\n",
        "class SimpleCNN(nn.Module):\n",
        "    def __init__(self,n_out=10, n_in=1):\n",
        "        super().__init__()\n",
        "\n",
        "        # Put the layers here\n",
        "        self.conv1 = nn.Conv2d(n_in, 32, kernel_size=5, padding=2)\n",
        "        self.conv2 = nn.Conv2d(32, 64, kernel_size=3, padding=1)\n",
        "        self.conv3 = nn.Conv2d(64, 64, kernel_size=3, padding=1)\n",
        "\n",
        "        self.fc = nn.Linear(4096, n_out)\n",
        "\n",
        "    def forward(self, x):\n",
        "        x = F.leaky_relu(self.conv1(x)) ## l'image 1x32x32 devient 32x32x32\n",
        "        x = F.max_pool2d(x, kernel_size=2, stride=2) ## puis 32x16x16\n",
        "        x = F.leaky_relu(self.conv2(x)) ## puis devient 64x16x16\n",
        "        x = F.max_pool2d(x, kernel_size=2, stride=2) ## puis devient 64x8x8\n",
        "        x = F.leaky_relu(self.conv3(x)) ## pas de changement\n",
        "\n",
        "        x = x.view(-1,4096) ## 64x8x8 devient 4096\n",
        "\n",
        "        x = self.fc(x) ## on finit exactement de la même façon\n",
        "\n",
        "        return x\n",
        "\n",
        "# Another simple model (compare them using torchinfo below)\n",
        "class SimpleCNN2(nn.Module):\n",
        "    def __init__(self, n_out=10, n_in=1):\n",
        "        super(SimpleCNN2, self).__init__()\n",
        "        self.conv1 = nn.Conv2d(n_in, 32, kernel_size=3, padding=1)\n",
        "        self.conv2 = nn.Conv2d(32, 64, kernel_size=3, padding=1)\n",
        "        self.fc1 = nn.Linear(64 * 8 * 8, 128)\n",
        "        self.fc = nn.Linear(128, n_out)\n",
        "        self.pool = nn.MaxPool2d(2, 2)\n",
        "        self.relu = nn.ReLU()\n",
        "\n",
        "    def forward(self, x):\n",
        "        x = self.pool(self.relu(self.conv1(x)))\n",
        "        x = self.pool(self.relu(self.conv2(x)))\n",
        "        x = x.view(-1, 64 * 8 * 8)  # Flatten the tensor\n",
        "        x = self.relu(self.fc1(x))\n",
        "        x = self.fc(x)\n",
        "        return x"
      ]
    },
    {
      "cell_type": "code",
      "execution_count": 13,
      "metadata": {
        "colab": {
          "base_uri": "https://localhost:8080/"
        },
        "id": "_gIfiLiF-vhv",
        "outputId": "1f609e63-6a6e-4437-d57d-df4d92ba3b59"
      },
      "outputs": [
        {
          "output_type": "stream",
          "name": "stdout",
          "text": [
            "Collecting torchinfo\n",
            "  Downloading torchinfo-1.8.0-py3-none-any.whl.metadata (21 kB)\n",
            "Downloading torchinfo-1.8.0-py3-none-any.whl (23 kB)\n",
            "Installing collected packages: torchinfo\n",
            "Successfully installed torchinfo-1.8.0\n",
            "==========================================================================================\n",
            "Layer (type:depth-idx)                   Output Shape              Param #\n",
            "==========================================================================================\n",
            "SimpleCNN2                               [64, 10]                  --\n",
            "├─Conv2d: 1-1                            [64, 32, 32, 32]          896\n",
            "├─ReLU: 1-2                              [64, 32, 32, 32]          --\n",
            "├─MaxPool2d: 1-3                         [64, 32, 16, 16]          --\n",
            "├─Conv2d: 1-4                            [64, 64, 16, 16]          18,496\n",
            "├─ReLU: 1-5                              [64, 64, 16, 16]          --\n",
            "├─MaxPool2d: 1-6                         [64, 64, 8, 8]            --\n",
            "├─Linear: 1-7                            [64, 128]                 524,416\n",
            "├─ReLU: 1-8                              [64, 128]                 --\n",
            "├─Linear: 1-9                            [64, 10]                  1,290\n",
            "==========================================================================================\n",
            "Total params: 545,098\n",
            "Trainable params: 545,098\n",
            "Non-trainable params: 0\n",
            "Total mult-adds (Units.MEGABYTES): 395.40\n",
            "==========================================================================================\n",
            "Input size (MB): 0.79\n",
            "Forward/backward pass size (MB): 25.24\n",
            "Params size (MB): 2.18\n",
            "Estimated Total Size (MB): 28.20\n",
            "==========================================================================================\n",
            "==========================================================================================\n",
            "Layer (type:depth-idx)                   Output Shape              Param #\n",
            "==========================================================================================\n",
            "SimpleCNN                                [64, 10]                  --\n",
            "├─Conv2d: 1-1                            [64, 32, 32, 32]          2,432\n",
            "├─Conv2d: 1-2                            [64, 64, 16, 16]          18,496\n",
            "├─Conv2d: 1-3                            [64, 64, 8, 8]            36,928\n",
            "├─Linear: 1-4                            [64, 10]                  40,970\n",
            "==========================================================================================\n",
            "Total params: 98,826\n",
            "Trainable params: 98,826\n",
            "Non-trainable params: 0\n",
            "Total mult-adds (Units.MEGABYTES): 616.30\n",
            "==========================================================================================\n",
            "Input size (MB): 0.79\n",
            "Forward/backward pass size (MB): 27.27\n",
            "Params size (MB): 0.40\n",
            "Estimated Total Size (MB): 28.45\n",
            "==========================================================================================\n"
          ]
        }
      ],
      "source": [
        "!pip install torchinfo\n",
        "from torchinfo import summary\n",
        "\n",
        "model = SimpleCNN2(n_out=10, n_in=3)\n",
        "model.to(device)\n",
        "print(summary(model, input_size=(batch_size, 3, 32, 32)))\n",
        "\n",
        "model = SimpleCNN(n_out=10, n_in=3)\n",
        "model.to(device)\n",
        "print(summary(model, input_size=(batch_size, 3, 32, 32)))\n",
        "\n",
        "#print(model)"
      ]
    },
    {
      "cell_type": "markdown",
      "source": [
        "## Baseline for incremental learning"
      ],
      "metadata": {
        "id": "f04OhO2GkqzO"
      }
    },
    {
      "cell_type": "code",
      "execution_count": 14,
      "metadata": {
        "id": "WuVL2YbW4T_a"
      },
      "outputs": [],
      "source": [
        "from torch.optim import lr_scheduler\n",
        "import torch.nn.init as init\n",
        "\n",
        "# Evaluation\n",
        "def evaluate(model, test_loader, device):\n",
        "    model.eval()\n",
        "    correct = 0\n",
        "    total = 0\n",
        "    with torch.no_grad():\n",
        "        for images, labels in tqdm(test_loader, ncols=80):\n",
        "            images, labels = images.to(device), labels.to(device)\n",
        "            outputs = model(images)\n",
        "            _, predicted = torch.max(outputs.data, 1)\n",
        "            total += labels.size(0)\n",
        "            correct += (predicted == labels).sum().item()\n",
        "    return 100 * correct / total\n",
        "\n",
        "# Simple Training loop\n",
        "def train(model, train_loader, optimizer, criterion, device, epoch):\n",
        "    model.train()\n",
        "\n",
        "    for images, labels in tqdm(train_loader, ncols=80,  desc=\"Epoch {}\".format(epoch)):\n",
        "        images, labels = images.to(device), labels.to(device)\n",
        "        optimizer.zero_grad()\n",
        "        outputs = model(images)\n",
        "        loss = criterion(outputs, labels)\n",
        "        loss.backward()\n",
        "        optimizer.step()\n",
        "\n",
        "def initialize_weights(module):\n",
        "    \"\"\"Initializes the weights of a PyTorch module using Xavier/Glorot initialization.\"\"\"\n",
        "    if isinstance(module, (nn.Linear, nn.Conv2d, nn.ConvTranspose2d)):  # Check for relevant layers\n",
        "        init.xavier_uniform_(module.weight) #Xavier uniform initialization\n",
        "        if module.bias is not None:\n",
        "            init.zeros_(module.bias)  # Initialize bias to zero\n",
        "    elif isinstance(module, (nn.BatchNorm2d, nn.LayerNorm, nn.GroupNorm)): #Initialize normalization layers\n",
        "        if module.weight is not None:\n",
        "            init.ones_(module.weight)\n",
        "        if module.bias is not None:\n",
        "            init.zeros_(module.bias)\n",
        "\n",
        "\n",
        "# Main training loop for incremental learning\n",
        "def incremental_learning(model, train_dataset, train_target, test_dataset, test_target,\n",
        "                         num_tasks, classes_per_task, batch_size, num_epochs, lr, device):\n",
        "    nclasses = len(np.unique(train_target))\n",
        "    all_classes = list(range(nclasses))\n",
        "    criterion = nn.CrossEntropyLoss()\n",
        "    current_classes = []\n",
        "    accuracies = []\n",
        "\n",
        "    for task in range(num_tasks):\n",
        "        task_classes = all_classes[task * classes_per_task : (task + 1) * classes_per_task]\n",
        "        current_classes.extend(task_classes)\n",
        "\n",
        "        train_loader = create_dataloader(train_dataset, train_target, task_classes, batch_size, shuffle = True)\n",
        "        test_loader = create_dataloader(test_dataset, test_target, current_classes, batch_size, shuffle = False)\n",
        "\n",
        "        if task == 0:\n",
        "            model.fc = nn.Linear(model.fc.in_features, len(current_classes)).to(device)\n",
        "        else:\n",
        "            # Expand the output layer for new classes\n",
        "            old_weight = model.fc.weight.data\n",
        "            old_bias = model.fc.bias.data\n",
        "            model.fc = nn.Linear(model.fc.in_features, len(current_classes)).to(device)\n",
        "            model.fc.weight.data[:len(old_weight)] = old_weight\n",
        "            model.fc.bias.data[:len(old_bias)] = old_bias\n",
        "\n",
        "        optimizer = optim.SGD(model.parameters(), lr=lr, momentum=0.9, weight_decay=5e-4)\n",
        "        optimizer = torch.optim.Adam(model.parameters(), lr=lr)\n",
        "        scheduler = lr_scheduler.StepLR(optimizer, step_size=5, gamma=0.5)\n",
        "\n",
        "        print(f\"Starting Task {task+1} - Training on classes: {task_classes}\")\n",
        "        for epoch in range(num_epochs): # Adjust number of epochs as needed\n",
        "            train(model, train_loader, optimizer, criterion, device, epoch)\n",
        "            scheduler.step()\n",
        "            accuracy = evaluate(model, train_loader, device)\n",
        "            print(f\"Task {task+1}, Epoch {epoch+1}: Accuracy Train = {accuracy:.2f}%\")\n",
        "        accuracy = evaluate(model, test_loader, device)\n",
        "        accuracies.append(accuracy)\n",
        "        print(f\"Task {task+1}: Accuracy Test = {accuracy:.2f}%\")\n",
        "\n",
        "    return accuracies\n",
        "\n"
      ]
    },
    {
      "cell_type": "markdown",
      "source": [
        "## Weight & Biases\n",
        "\n",
        "You can use this environement to log your learning.\n",
        "\n",
        "The code below provides a version of the class incremental function that stores learning curves and the seauence of accuracies for each increment of classes.\n",
        "\n",
        "Tu use it, create an account at: https://wandb.ai/"
      ],
      "metadata": {
        "id": "Uio21fDojgTD"
      }
    },
    {
      "cell_type": "code",
      "execution_count": 3,
      "metadata": {
        "colab": {
          "base_uri": "https://localhost:8080/",
          "height": 193
        },
        "id": "B98gHkBTHUbX",
        "outputId": "c72ac053-4667-452c-eeea-8d8ce5b90c6a"
      },
      "outputs": [
        {
          "output_type": "display_data",
          "data": {
            "text/plain": [
              "<IPython.core.display.Javascript object>"
            ],
            "application/javascript": [
              "\n",
              "        window._wandbApiKey = new Promise((resolve, reject) => {\n",
              "            function loadScript(url) {\n",
              "            return new Promise(function(resolve, reject) {\n",
              "                let newScript = document.createElement(\"script\");\n",
              "                newScript.onerror = reject;\n",
              "                newScript.onload = resolve;\n",
              "                document.body.appendChild(newScript);\n",
              "                newScript.src = url;\n",
              "            });\n",
              "            }\n",
              "            loadScript(\"https://cdn.jsdelivr.net/npm/postmate/build/postmate.min.js\").then(() => {\n",
              "            const iframe = document.createElement('iframe')\n",
              "            iframe.style.cssText = \"width:0;height:0;border:none\"\n",
              "            document.body.appendChild(iframe)\n",
              "            const handshake = new Postmate({\n",
              "                container: iframe,\n",
              "                url: 'https://wandb.ai/authorize'\n",
              "            });\n",
              "            const timeout = setTimeout(() => reject(\"Couldn't auto authenticate\"), 5000)\n",
              "            handshake.then(function(child) {\n",
              "                child.on('authorize', data => {\n",
              "                    clearTimeout(timeout)\n",
              "                    resolve(data)\n",
              "                });\n",
              "            });\n",
              "            })\n",
              "        });\n",
              "    "
            ]
          },
          "metadata": {}
        },
        {
          "output_type": "stream",
          "name": "stderr",
          "text": [
            "\u001b[34m\u001b[1mwandb\u001b[0m: Logging into wandb.ai. (Learn how to deploy a W&B server locally: https://wandb.me/wandb-server)\n",
            "\u001b[34m\u001b[1mwandb\u001b[0m: You can find your API key in your browser here: https://wandb.ai/authorize\n",
            "wandb: Paste an API key from your profile and hit enter, or press ctrl+c to quit:"
          ]
        },
        {
          "name": "stdout",
          "output_type": "stream",
          "text": [
            " ··········\n"
          ]
        },
        {
          "output_type": "stream",
          "name": "stderr",
          "text": [
            "\u001b[34m\u001b[1mwandb\u001b[0m: \u001b[33mWARNING\u001b[0m If you're specifying your api key in code, ensure this code is not shared publicly.\n",
            "\u001b[34m\u001b[1mwandb\u001b[0m: \u001b[33mWARNING\u001b[0m Consider setting the WANDB_API_KEY environment variable, or running `wandb login` from the command line.\n",
            "\u001b[34m\u001b[1mwandb\u001b[0m: Appending key for api.wandb.ai to your netrc file: /root/.netrc\n",
            "\u001b[34m\u001b[1mwandb\u001b[0m: Currently logged in as: \u001b[33mrodrigozuiani\u001b[0m (\u001b[33mrodrigozuiani-ensta-paris\u001b[0m) to \u001b[32mhttps://api.wandb.ai\u001b[0m. Use \u001b[1m`wandb login --relogin`\u001b[0m to force relogin\n"
          ]
        },
        {
          "output_type": "execute_result",
          "data": {
            "text/plain": [
              "True"
            ]
          },
          "metadata": {},
          "execution_count": 3
        }
      ],
      "source": [
        "###################################\n",
        "##### For using Weight & Biases\n",
        "###############\n",
        "\n",
        "!pip install wandb -qU\n",
        "\n",
        "import wandb\n",
        "\n",
        "wandb.login()\n"
      ]
    },
    {
      "cell_type": "code",
      "execution_count": 15,
      "metadata": {
        "id": "AC_ixhkpOFZj"
      },
      "outputs": [],
      "source": [
        "import math\n",
        "# Simple Training loop\n",
        "def train_wandb(model, train_loader, optimizer, criterion, device, epoch):\n",
        "\n",
        "    step_ct = 0\n",
        "    n_steps_per_epoch = math.ceil(len(train_loader.dataset) / train_loader.batch_size)\n",
        "\n",
        "    model.train()\n",
        "\n",
        "    for step, (images, labels) in tqdm(enumerate(train_loader), ncols=80,  desc=\"Epoch {}\".format(epoch)):\n",
        "        images, labels = images.to(device), labels.to(device)\n",
        "        optimizer.zero_grad()\n",
        "        outputs = model(images)\n",
        "        loss = criterion(outputs, labels)\n",
        "        loss.backward()\n",
        "        optimizer.step()\n",
        "\n",
        "        metrics = {\"train/train_loss\": loss}\n",
        "        # metrics = {\"train/train_loss\": loss,\n",
        "        #             \"train/epoch\": (step + 1 + (n_steps_per_epoch * epoch)) / n_steps_per_epoch}\n",
        "\n",
        "        if step + 1 < n_steps_per_epoch:\n",
        "          # Log train metrics to wandb\n",
        "          wandb.log(metrics)\n",
        "        step_ct += 1\n",
        "\n",
        "\n",
        "# Main training loop for incremental learning\n",
        "def incremental_learning_wandb(model, train_dataset, train_target, test_dataset, test_target,\n",
        "                         num_tasks, classes_per_task, batch_size, num_epochs, lr, device, non_incremental = False):\n",
        "    nclasses = len(np.unique(train_target))\n",
        "    all_classes = list(range(nclasses))\n",
        "    criterion = nn.CrossEntropyLoss()\n",
        "    current_classes = []\n",
        "    accuracies = []\n",
        "\n",
        "    # Copy your config\n",
        "    config = wandb.config\n",
        "\n",
        "    wandb.define_metric(\"task\")\n",
        "    wandb.define_metric(\"incremental_accuracy\", step_metric=\"task\")\n",
        "\n",
        "    for task in range(num_tasks):\n",
        "        if non_incremental == True: # Learn from all available data\n",
        "          task_classes = all_classes[0 : (task + 1) * classes_per_task]\n",
        "          current_classes = task_classes\n",
        "          model.apply(initialize_weights)\n",
        "        else:\n",
        "          task_classes = all_classes[task * classes_per_task : (task + 1) * classes_per_task]\n",
        "          current_classes.extend(task_classes)\n",
        "\n",
        "        train_loader = create_dataloader(train_dataset, train_target, task_classes, batch_size, shuffle = True)\n",
        "        test_loader = create_dataloader(test_dataset, test_target, current_classes, batch_size, shuffle = False)\n",
        "\n",
        "        if task == 0 or non_incremental == True:\n",
        "            model.fc = nn.Linear(model.fc.in_features, len(current_classes)).to(device)\n",
        "        else:\n",
        "            # Expand the output layer for new classes\n",
        "            old_weight = model.fc.weight.data\n",
        "            old_bias = model.fc.bias.data\n",
        "            model.fc = nn.Linear(model.fc.in_features, len(current_classes)).to(device)\n",
        "            model.fc.weight.data[:len(old_weight)] = old_weight\n",
        "            model.fc.bias.data[:len(old_bias)] = old_bias\n",
        "\n",
        "        optimizer = optim.SGD(model.parameters(), lr=lr, momentum=0.9, weight_decay=5e-4)\n",
        "        optimizer = torch.optim.Adam(model.parameters(), lr=lr)\n",
        "        scheduler = lr_scheduler.StepLR(optimizer, step_size=5, gamma=0.5)\n",
        "\n",
        "        print(f\"Starting Task {task+1} - Training on classes: {task_classes}\")\n",
        "        for epoch in range(num_epochs): # Adjust number of epochs\n",
        "            #train(model, train_loader, optimizer, criterion, device, epoch)\n",
        "\n",
        "            # If logging training (but not incremental)\n",
        "            train_wandb(model, train_loader, optimizer, criterion, device, epoch)\n",
        "\n",
        "            scheduler.step()\n",
        "            accuracy = evaluate(model, train_loader, device)\n",
        "            print(f\"Task {task+1}, Epoch {epoch+1}: Accuracy Train = {accuracy:.2f}%\")\n",
        "\n",
        "            val_metrics = {\"val/val_accuracy\": accuracy}\n",
        "            #wandb.log({**val_metrics})\n",
        "\n",
        "        accuracy = evaluate(model, test_loader, device)\n",
        "        accuracies.append(accuracy)\n",
        "        print(f\"Task {task+1}: Accuracy Test = {accuracy:.2f}%\")\n",
        "\n",
        "        incremental_metrics = {\"incremental_accuracy\": accuracy, \"task\": task}\n",
        "        wandb.log({**incremental_metrics})\n",
        "\n",
        "        # Log train and validation metrics to wandb\n",
        "\n",
        "    return accuracies\n",
        "\n"
      ]
    },
    {
      "cell_type": "markdown",
      "source": [
        "## Pre-Training"
      ],
      "metadata": {
        "id": "bAaNngOPM0Sq"
      }
    },
    {
      "cell_type": "code",
      "source": [
        "# Hyperparameters\n",
        "root_dir = './data'  # Path to GTSRB dataset\n",
        "num_tasks = 5\n",
        "numclasses = len(np.unique(train_target))\n",
        "classes_per_task = numclasses // num_tasks #43/2 ~ 20\n",
        "batch_size = 64\n",
        "lr = 1e-3\n",
        "device = torch.device(\"cuda\" if torch.cuda.is_available() else \"cpu\")\n",
        "\n",
        "buffer_size = 200 # Adjust rehearsal set size\n",
        "alignment_strength = 0.1 # Adjust alignment strength\n",
        "num_epochs = 4\n",
        "\n",
        "#model = SimpleCNN(n_out = 1, n_in = 3).to(device)\n",
        "#model.apply(initialize_weights)\n",
        "\n",
        "# The name of the network (choose the on you want)\n",
        "tag = \"simpleCNN_GTSRB_pretrained\"\n",
        "netname = os.path.join(root_dir, 'network_{:s}.pth'.format(tag))\n",
        "\n",
        "#################################################\n",
        "## Pre-training\n",
        "####\n",
        "\n",
        "# Read the last learned network (if stored)\n",
        "if (os.path.exists(netname)):\n",
        "    print('Load pre-trained network')\n",
        "    model = SimpleCNN(n_in = 3, n_out=classes_per_task)\n",
        "    model.load_state_dict(torch.load(netname,weights_only=True))\n",
        "\n",
        "    #model = torch.load(netname, weights_only=True)\n",
        "    model = model.to(device)\n",
        "else:\n",
        "    print('Pretrain')\n",
        "    model = SimpleCNN(n_in = 3, n_out=1)\n",
        "    model.apply(initialize_weights)\n",
        "    model.to(device)\n",
        "\n",
        "    accu = incremental_learning(model, train_dataset, train_target, test_dataset, test_target,\n",
        "                        1, classes_per_task, batch_size, num_epochs, lr, device)\n",
        "\n",
        "    print(f\"!!!!! Pre-training on first task  = {accu[0]:.2f}%\")\n",
        "\n",
        "    # Save last learned model\n",
        "    #torch.save(model, netname)\n",
        "    torch.save(model.state_dict(), netname)\n",
        "\n",
        "## Copy model to have the same initialization\n",
        "copy_model = copy.deepcopy(model) # Copy model to start from the same initialization\n",
        "\n",
        "#### Learn with a single epoch in incremental (faster but less accurate)\n",
        "num_epochs = 1\n"
      ],
      "metadata": {
        "colab": {
          "base_uri": "https://localhost:8080/"
        },
        "id": "VgJ8qN2tNDLh",
        "outputId": "967dea23-f417-4ec1-85d1-03f7cb5265b3"
      },
      "execution_count": 16,
      "outputs": [
        {
          "output_type": "stream",
          "name": "stdout",
          "text": [
            "Pretrain\n",
            "Starting Task 1 - Training on classes: [0, 1, 2, 3, 4, 5, 6, 7]\n"
          ]
        },
        {
          "output_type": "stream",
          "name": "stderr",
          "text": [
            "Epoch 0: 100%|████████████████████████████████| 125/125 [00:23<00:00,  5.34it/s]\n",
            "100%|█████████████████████████████████████████| 125/125 [00:12<00:00,  9.97it/s]\n"
          ]
        },
        {
          "output_type": "stream",
          "name": "stdout",
          "text": [
            "Task 1, Epoch 1: Accuracy Train = 56.33%\n"
          ]
        },
        {
          "output_type": "stream",
          "name": "stderr",
          "text": [
            "Epoch 1: 100%|████████████████████████████████| 125/125 [00:22<00:00,  5.50it/s]\n",
            "100%|█████████████████████████████████████████| 125/125 [00:12<00:00, 10.22it/s]\n"
          ]
        },
        {
          "output_type": "stream",
          "name": "stdout",
          "text": [
            "Task 1, Epoch 2: Accuracy Train = 86.83%\n"
          ]
        },
        {
          "output_type": "stream",
          "name": "stderr",
          "text": [
            "Epoch 2: 100%|████████████████████████████████| 125/125 [00:21<00:00,  5.73it/s]\n",
            "100%|█████████████████████████████████████████| 125/125 [00:14<00:00,  8.91it/s]\n"
          ]
        },
        {
          "output_type": "stream",
          "name": "stdout",
          "text": [
            "Task 1, Epoch 3: Accuracy Train = 95.42%\n"
          ]
        },
        {
          "output_type": "stream",
          "name": "stderr",
          "text": [
            "Epoch 3: 100%|████████████████████████████████| 125/125 [00:21<00:00,  5.92it/s]\n",
            "100%|█████████████████████████████████████████| 125/125 [00:12<00:00, 10.09it/s]\n"
          ]
        },
        {
          "output_type": "stream",
          "name": "stdout",
          "text": [
            "Task 1, Epoch 4: Accuracy Train = 98.20%\n"
          ]
        },
        {
          "output_type": "stream",
          "name": "stderr",
          "text": [
            "100%|███████████████████████████████████████████| 61/61 [00:06<00:00,  9.20it/s]\n"
          ]
        },
        {
          "output_type": "stream",
          "name": "stdout",
          "text": [
            "Task 1: Accuracy Test = 88.35%\n",
            "!!!!! Pre-training on first task  = 88.35%\n"
          ]
        }
      ]
    },
    {
      "cell_type": "markdown",
      "source": [
        "## Fine tuning"
      ],
      "metadata": {
        "id": "93lWmMn2Nnnw"
      }
    },
    {
      "cell_type": "code",
      "source": [
        "#############################################\n",
        "## Fine tuning\n",
        "####\n",
        "# initialise a wandb run\n",
        "run = wandb.init(\n",
        "    project=\"GTSRB-CIL\",\n",
        "    name = \"Fine tuning\",\n",
        "    config={\n",
        "        \"epochs\": num_epochs,\n",
        "        \"batch_size\": batch_size,\n",
        "        \"num_tasks\": num_tasks,\n",
        "        \"classes_per_task\": classes_per_task,\n",
        "        \"lr\": lr,\n",
        "        })\n",
        "\n",
        "# Simple Incremental Fine Tuning\n",
        "model = copy.deepcopy(copy_model)\n",
        "incremental_learning_wandb(model, train_dataset, train_target, test_dataset, test_target,\n",
        "                      num_tasks, classes_per_task, batch_size, num_epochs, lr, device)\n",
        "wandb.finish()\n"
      ],
      "metadata": {
        "id": "Tla2raJ7Nn_o",
        "colab": {
          "base_uri": "https://localhost:8080/",
          "height": 1000
        },
        "outputId": "5c17316b-a367-480f-cfcd-5b7cebba7b02"
      },
      "execution_count": 14,
      "outputs": [
        {
          "output_type": "stream",
          "name": "stderr",
          "text": [
            "\u001b[34m\u001b[1mwandb\u001b[0m: Using wandb-core as the SDK backend.  Please refer to https://wandb.me/wandb-core for more information.\n"
          ]
        },
        {
          "output_type": "display_data",
          "data": {
            "text/plain": [
              "<IPython.core.display.HTML object>"
            ],
            "text/html": [
              "Tracking run with wandb version 0.19.5"
            ]
          },
          "metadata": {}
        },
        {
          "output_type": "display_data",
          "data": {
            "text/plain": [
              "<IPython.core.display.HTML object>"
            ],
            "text/html": [
              "Run data is saved locally in <code>/content/wandb/run-20250131_111218-u0omv1dl</code>"
            ]
          },
          "metadata": {}
        },
        {
          "output_type": "display_data",
          "data": {
            "text/plain": [
              "<IPython.core.display.HTML object>"
            ],
            "text/html": [
              "Syncing run <strong><a href='https://wandb.ai/rodrigozuiani-ensta-paris/GTSRB-CIL/runs/u0omv1dl' target=\"_blank\">Fine tuning</a></strong> to <a href='https://wandb.ai/rodrigozuiani-ensta-paris/GTSRB-CIL' target=\"_blank\">Weights & Biases</a> (<a href='https://wandb.me/developer-guide' target=\"_blank\">docs</a>)<br>"
            ]
          },
          "metadata": {}
        },
        {
          "output_type": "display_data",
          "data": {
            "text/plain": [
              "<IPython.core.display.HTML object>"
            ],
            "text/html": [
              " View project at <a href='https://wandb.ai/rodrigozuiani-ensta-paris/GTSRB-CIL' target=\"_blank\">https://wandb.ai/rodrigozuiani-ensta-paris/GTSRB-CIL</a>"
            ]
          },
          "metadata": {}
        },
        {
          "output_type": "display_data",
          "data": {
            "text/plain": [
              "<IPython.core.display.HTML object>"
            ],
            "text/html": [
              " View run at <a href='https://wandb.ai/rodrigozuiani-ensta-paris/GTSRB-CIL/runs/u0omv1dl' target=\"_blank\">https://wandb.ai/rodrigozuiani-ensta-paris/GTSRB-CIL/runs/u0omv1dl</a>"
            ]
          },
          "metadata": {}
        },
        {
          "output_type": "stream",
          "name": "stdout",
          "text": [
            "Starting Task 1 - Training on classes: [0, 1, 2, 3, 4, 5, 6, 7]\n"
          ]
        },
        {
          "output_type": "stream",
          "name": "stderr",
          "text": [
            "Epoch 0: 125it [00:08, 14.38it/s]\n",
            "100%|█████████████████████████████████████████| 125/125 [00:03<00:00, 38.76it/s]\n"
          ]
        },
        {
          "output_type": "stream",
          "name": "stdout",
          "text": [
            "Task 1, Epoch 1: Accuracy Train = 96.11%\n"
          ]
        },
        {
          "output_type": "stream",
          "name": "stderr",
          "text": [
            "100%|███████████████████████████████████████████| 61/61 [00:01<00:00, 39.79it/s]\n"
          ]
        },
        {
          "output_type": "stream",
          "name": "stdout",
          "text": [
            "Task 1: Accuracy Test = 87.24%\n",
            "Starting Task 2 - Training on classes: [8, 9, 10, 11, 12, 13, 14, 15]\n"
          ]
        },
        {
          "output_type": "stream",
          "name": "stderr",
          "text": [
            "Epoch 0: 126it [00:04, 30.94it/s]\n",
            "100%|█████████████████████████████████████████| 126/126 [00:04<00:00, 30.12it/s]\n"
          ]
        },
        {
          "output_type": "stream",
          "name": "stdout",
          "text": [
            "Task 2, Epoch 1: Accuracy Train = 99.20%\n"
          ]
        },
        {
          "output_type": "stream",
          "name": "stderr",
          "text": [
            "100%|█████████████████████████████████████████| 122/122 [00:03<00:00, 38.70it/s]\n"
          ]
        },
        {
          "output_type": "stream",
          "name": "stdout",
          "text": [
            "Task 2: Accuracy Test = 47.57%\n",
            "Starting Task 3 - Training on classes: [16, 17, 18, 19, 20, 21, 22, 23]\n"
          ]
        },
        {
          "output_type": "stream",
          "name": "stderr",
          "text": [
            "Epoch 0: 49it [00:01, 34.12it/s]\n",
            "100%|███████████████████████████████████████████| 49/49 [00:01<00:00, 38.23it/s]\n"
          ]
        },
        {
          "output_type": "stream",
          "name": "stdout",
          "text": [
            "Task 3, Epoch 1: Accuracy Train = 97.56%\n"
          ]
        },
        {
          "output_type": "stream",
          "name": "stderr",
          "text": [
            "100%|█████████████████████████████████████████| 144/144 [00:03<00:00, 36.41it/s]\n"
          ]
        },
        {
          "output_type": "stream",
          "name": "stdout",
          "text": [
            "Task 3: Accuracy Test = 12.00%\n",
            "Starting Task 4 - Training on classes: [24, 25, 26, 27, 28, 29, 30, 31]\n"
          ]
        },
        {
          "output_type": "stream",
          "name": "stderr",
          "text": [
            "Epoch 0: 50it [00:01, 25.36it/s]\n",
            "100%|███████████████████████████████████████████| 50/50 [00:01<00:00, 26.90it/s]\n"
          ]
        },
        {
          "output_type": "stream",
          "name": "stdout",
          "text": [
            "Task 4, Epoch 1: Accuracy Train = 88.99%\n"
          ]
        },
        {
          "output_type": "stream",
          "name": "stderr",
          "text": [
            "100%|█████████████████████████████████████████| 167/167 [00:04<00:00, 37.91it/s]\n"
          ]
        },
        {
          "output_type": "stream",
          "name": "stdout",
          "text": [
            "Task 4: Accuracy Test = 10.00%\n",
            "Starting Task 5 - Training on classes: [32, 33, 34, 35, 36, 37, 38, 39]\n"
          ]
        },
        {
          "output_type": "stream",
          "name": "stderr",
          "text": [
            "Epoch 0: 60it [00:01, 34.62it/s]\n",
            "100%|███████████████████████████████████████████| 60/60 [00:01<00:00, 39.11it/s]\n"
          ]
        },
        {
          "output_type": "stream",
          "name": "stdout",
          "text": [
            "Task 5, Epoch 1: Accuracy Train = 96.96%\n"
          ]
        },
        {
          "output_type": "stream",
          "name": "stderr",
          "text": [
            "100%|█████████████████████████████████████████| 194/194 [00:06<00:00, 31.09it/s]"
          ]
        },
        {
          "output_type": "stream",
          "name": "stdout",
          "text": [
            "Task 5: Accuracy Test = 12.24%\n"
          ]
        },
        {
          "output_type": "stream",
          "name": "stderr",
          "text": [
            "\n"
          ]
        },
        {
          "output_type": "display_data",
          "data": {
            "text/plain": [
              "<IPython.core.display.HTML object>"
            ],
            "text/html": []
          },
          "metadata": {}
        },
        {
          "output_type": "display_data",
          "data": {
            "text/plain": [
              "<IPython.core.display.HTML object>"
            ],
            "text/html": [
              "<br>    <style><br>        .wandb-row {<br>            display: flex;<br>            flex-direction: row;<br>            flex-wrap: wrap;<br>            justify-content: flex-start;<br>            width: 100%;<br>        }<br>        .wandb-col {<br>            display: flex;<br>            flex-direction: column;<br>            flex-basis: 100%;<br>            flex: 1;<br>            padding: 10px;<br>        }<br>    </style><br><div class=\"wandb-row\"><div class=\"wandb-col\"><h3>Run history:</h3><br/><table class=\"wandb\"><tr><td>incremental_accuracy</td><td>█▄▁▁▁</td></tr><tr><td>task</td><td>▁▃▅▆█</td></tr><tr><td>train/train_loss</td><td>▄▃▂▂▂▁▂▁▂▂▁▁▃▂▂▁▂▁▁▁▁▁▁▂▁▄▂▂▂█▇▃▆▅▄▃▂▂▂▁</td></tr></table><br/></div><div class=\"wandb-col\"><h3>Run summary:</h3><br/><table class=\"wandb\"><tr><td>incremental_accuracy</td><td>12.24374</td></tr><tr><td>task</td><td>4</td></tr><tr><td>train/train_loss</td><td>0.07375</td></tr></table><br/></div></div>"
            ]
          },
          "metadata": {}
        },
        {
          "output_type": "display_data",
          "data": {
            "text/plain": [
              "<IPython.core.display.HTML object>"
            ],
            "text/html": [
              " View run <strong style=\"color:#cdcd00\">Fine tuning</strong> at: <a href='https://wandb.ai/rodrigozuiani-ensta-paris/GTSRB-CIL/runs/u0omv1dl' target=\"_blank\">https://wandb.ai/rodrigozuiani-ensta-paris/GTSRB-CIL/runs/u0omv1dl</a><br> View project at: <a href='https://wandb.ai/rodrigozuiani-ensta-paris/GTSRB-CIL' target=\"_blank\">https://wandb.ai/rodrigozuiani-ensta-paris/GTSRB-CIL</a><br>Synced 5 W&B file(s), 0 media file(s), 0 artifact file(s) and 0 other file(s)"
            ]
          },
          "metadata": {}
        },
        {
          "output_type": "display_data",
          "data": {
            "text/plain": [
              "<IPython.core.display.HTML object>"
            ],
            "text/html": [
              "Find logs at: <code>./wandb/run-20250131_111218-u0omv1dl/logs</code>"
            ]
          },
          "metadata": {}
        }
      ]
    },
    {
      "cell_type": "markdown",
      "source": [
        "## Upper bound"
      ],
      "metadata": {
        "id": "TfV4H_gQlJOg"
      }
    },
    {
      "cell_type": "code",
      "source": [
        "#################################################\n",
        "## Global upper bound (all data, all classes)\n",
        "####\n",
        "\n",
        "# One task + all classes computed using 5 epochs\n",
        "\n",
        "model = copy.deepcopy(copy_model)\n",
        "accu = incremental_learning(model, train_dataset, train_target, test_dataset, test_target,\n",
        "                      1, (numclasses // num_tasks) * num_tasks, batch_size, 5, lr, device)\n",
        "\n",
        "print(f\"!!!!! Upper bound of accuracy = {accu[0]:.2f}%\")\n"
      ],
      "metadata": {
        "id": "xs4duQSA3LY8",
        "colab": {
          "base_uri": "https://localhost:8080/"
        },
        "outputId": "a4237f20-4556-4ca0-e400-c594f5ee7e6e"
      },
      "execution_count": 15,
      "outputs": [
        {
          "output_type": "stream",
          "name": "stdout",
          "text": [
            "Starting Task 1 - Training on classes: [0, 1, 2, 3, 4, 5, 6, 7, 8, 9, 10, 11, 12, 13, 14, 15, 16, 17, 18, 19, 20, 21, 22, 23, 24, 25, 26, 27, 28, 29, 30, 31, 32, 33, 34, 35, 36, 37, 38, 39]\n"
          ]
        },
        {
          "output_type": "stream",
          "name": "stderr",
          "text": [
            "Epoch 0: 100%|████████████████████████████████| 407/407 [00:12<00:00, 33.10it/s]\n",
            "100%|█████████████████████████████████████████| 407/407 [00:14<00:00, 28.90it/s]\n"
          ]
        },
        {
          "output_type": "stream",
          "name": "stdout",
          "text": [
            "Task 1, Epoch 1: Accuracy Train = 97.75%\n"
          ]
        },
        {
          "output_type": "stream",
          "name": "stderr",
          "text": [
            "Epoch 1: 100%|████████████████████████████████| 407/407 [00:11<00:00, 34.91it/s]\n",
            "100%|█████████████████████████████████████████| 407/407 [00:10<00:00, 37.05it/s]\n"
          ]
        },
        {
          "output_type": "stream",
          "name": "stdout",
          "text": [
            "Task 1, Epoch 2: Accuracy Train = 99.17%\n"
          ]
        },
        {
          "output_type": "stream",
          "name": "stderr",
          "text": [
            "Epoch 2: 100%|████████████████████████████████| 407/407 [00:12<00:00, 33.23it/s]\n",
            "100%|█████████████████████████████████████████| 407/407 [00:11<00:00, 34.36it/s]\n"
          ]
        },
        {
          "output_type": "stream",
          "name": "stdout",
          "text": [
            "Task 1, Epoch 3: Accuracy Train = 99.44%\n"
          ]
        },
        {
          "output_type": "stream",
          "name": "stderr",
          "text": [
            "Epoch 3: 100%|████████████████████████████████| 407/407 [00:12<00:00, 33.49it/s]\n",
            "100%|█████████████████████████████████████████| 407/407 [00:11<00:00, 34.53it/s]\n"
          ]
        },
        {
          "output_type": "stream",
          "name": "stdout",
          "text": [
            "Task 1, Epoch 4: Accuracy Train = 99.83%\n"
          ]
        },
        {
          "output_type": "stream",
          "name": "stderr",
          "text": [
            "Epoch 4: 100%|████████████████████████████████| 407/407 [00:11<00:00, 35.42it/s]\n",
            "100%|█████████████████████████████████████████| 407/407 [00:11<00:00, 36.76it/s]\n"
          ]
        },
        {
          "output_type": "stream",
          "name": "stdout",
          "text": [
            "Task 1, Epoch 5: Accuracy Train = 99.90%\n"
          ]
        },
        {
          "output_type": "stream",
          "name": "stderr",
          "text": [
            "100%|█████████████████████████████████████████| 194/194 [00:06<00:00, 31.09it/s]"
          ]
        },
        {
          "output_type": "stream",
          "name": "stdout",
          "text": [
            "Task 1: Accuracy Test = 89.90%\n",
            "!!!!! Upper bound of accuracy = 89.90%\n"
          ]
        },
        {
          "output_type": "stream",
          "name": "stderr",
          "text": [
            "\n"
          ]
        }
      ]
    },
    {
      "cell_type": "code",
      "source": [
        "########################################\n",
        "## Upper bound for each task (takes some time)\n",
        "####\n",
        "# initialise a wandb run\n",
        "run = wandb.init(\n",
        "    project=\"GTSRB-CIL\",\n",
        "    name = \"Upper bound\",\n",
        "    config={\n",
        "        \"epochs\": num_epochs,\n",
        "        \"batch_size\": batch_size,\n",
        "        \"num_tasks\": num_tasks,\n",
        "        \"classes_per_task\": classes_per_task,\n",
        "        \"lr\": lr,\n",
        "        })\n",
        "\n",
        "# Non incremental data (learn all classes from all data for each task)\n",
        "model = copy.deepcopy(copy_model)\n",
        "incremental_learning_wandb(model, train_dataset, train_target, test_dataset, test_target,\n",
        "                      num_tasks, classes_per_task, batch_size, num_epochs, lr, device, non_incremental = True)\n",
        "\n",
        "wandb.finish()"
      ],
      "metadata": {
        "id": "TQONaVy3MYRa",
        "colab": {
          "base_uri": "https://localhost:8080/",
          "height": 1000
        },
        "outputId": "28419d1e-6d1f-4fac-a9ca-791a6bb01569"
      },
      "execution_count": 16,
      "outputs": [
        {
          "output_type": "display_data",
          "data": {
            "text/plain": [
              "<IPython.core.display.HTML object>"
            ],
            "text/html": [
              "Tracking run with wandb version 0.19.5"
            ]
          },
          "metadata": {}
        },
        {
          "output_type": "display_data",
          "data": {
            "text/plain": [
              "<IPython.core.display.HTML object>"
            ],
            "text/html": [
              "Run data is saved locally in <code>/content/wandb/run-20250131_111805-v0ruslob</code>"
            ]
          },
          "metadata": {}
        },
        {
          "output_type": "display_data",
          "data": {
            "text/plain": [
              "<IPython.core.display.HTML object>"
            ],
            "text/html": [
              "Syncing run <strong><a href='https://wandb.ai/rodrigozuiani-ensta-paris/GTSRB-CIL/runs/v0ruslob' target=\"_blank\">Upper bound</a></strong> to <a href='https://wandb.ai/rodrigozuiani-ensta-paris/GTSRB-CIL' target=\"_blank\">Weights & Biases</a> (<a href='https://wandb.me/developer-guide' target=\"_blank\">docs</a>)<br>"
            ]
          },
          "metadata": {}
        },
        {
          "output_type": "display_data",
          "data": {
            "text/plain": [
              "<IPython.core.display.HTML object>"
            ],
            "text/html": [
              " View project at <a href='https://wandb.ai/rodrigozuiani-ensta-paris/GTSRB-CIL' target=\"_blank\">https://wandb.ai/rodrigozuiani-ensta-paris/GTSRB-CIL</a>"
            ]
          },
          "metadata": {}
        },
        {
          "output_type": "display_data",
          "data": {
            "text/plain": [
              "<IPython.core.display.HTML object>"
            ],
            "text/html": [
              " View run at <a href='https://wandb.ai/rodrigozuiani-ensta-paris/GTSRB-CIL/runs/v0ruslob' target=\"_blank\">https://wandb.ai/rodrigozuiani-ensta-paris/GTSRB-CIL/runs/v0ruslob</a>"
            ]
          },
          "metadata": {}
        },
        {
          "output_type": "stream",
          "name": "stdout",
          "text": [
            "Starting Task 1 - Training on classes: [0, 1, 2, 3, 4, 5, 6, 7]\n"
          ]
        },
        {
          "output_type": "stream",
          "name": "stderr",
          "text": [
            "Epoch 0: 125it [00:03, 34.98it/s]\n",
            "100%|█████████████████████████████████████████| 125/125 [00:04<00:00, 30.64it/s]\n"
          ]
        },
        {
          "output_type": "stream",
          "name": "stdout",
          "text": [
            "Task 1, Epoch 1: Accuracy Train = 64.70%\n"
          ]
        },
        {
          "output_type": "stream",
          "name": "stderr",
          "text": [
            "100%|███████████████████████████████████████████| 61/61 [00:02<00:00, 29.91it/s]\n"
          ]
        },
        {
          "output_type": "stream",
          "name": "stdout",
          "text": [
            "Task 1: Accuracy Test = 52.22%\n",
            "Starting Task 2 - Training on classes: [0, 1, 2, 3, 4, 5, 6, 7, 8, 9, 10, 11, 12, 13, 14, 15]\n"
          ]
        },
        {
          "output_type": "stream",
          "name": "stderr",
          "text": [
            "Epoch 0: 250it [00:07, 34.34it/s]\n",
            "100%|█████████████████████████████████████████| 250/250 [00:07<00:00, 32.51it/s]\n"
          ]
        },
        {
          "output_type": "stream",
          "name": "stdout",
          "text": [
            "Task 2, Epoch 1: Accuracy Train = 90.70%\n"
          ]
        },
        {
          "output_type": "stream",
          "name": "stderr",
          "text": [
            "100%|█████████████████████████████████████████| 122/122 [00:03<00:00, 37.80it/s]\n"
          ]
        },
        {
          "output_type": "stream",
          "name": "stdout",
          "text": [
            "Task 2: Accuracy Test = 81.74%\n",
            "Starting Task 3 - Training on classes: [0, 1, 2, 3, 4, 5, 6, 7, 8, 9, 10, 11, 12, 13, 14, 15, 16, 17, 18, 19, 20, 21, 22, 23]\n"
          ]
        },
        {
          "output_type": "stream",
          "name": "stderr",
          "text": [
            "Epoch 0: 299it [00:09, 30.41it/s]\n",
            "100%|█████████████████████████████████████████| 299/299 [00:07<00:00, 37.41it/s]\n"
          ]
        },
        {
          "output_type": "stream",
          "name": "stdout",
          "text": [
            "Task 3, Epoch 1: Accuracy Train = 91.49%\n"
          ]
        },
        {
          "output_type": "stream",
          "name": "stderr",
          "text": [
            "100%|█████████████████████████████████████████| 144/144 [00:04<00:00, 34.25it/s]\n"
          ]
        },
        {
          "output_type": "stream",
          "name": "stdout",
          "text": [
            "Task 3: Accuracy Test = 82.20%\n",
            "Starting Task 4 - Training on classes: [0, 1, 2, 3, 4, 5, 6, 7, 8, 9, 10, 11, 12, 13, 14, 15, 16, 17, 18, 19, 20, 21, 22, 23, 24, 25, 26, 27, 28, 29, 30, 31]\n"
          ]
        },
        {
          "output_type": "stream",
          "name": "stderr",
          "text": [
            "Epoch 0: 348it [00:10, 32.56it/s]\n",
            "100%|█████████████████████████████████████████| 348/348 [00:10<00:00, 33.30it/s]\n"
          ]
        },
        {
          "output_type": "stream",
          "name": "stdout",
          "text": [
            "Task 4, Epoch 1: Accuracy Train = 93.39%\n"
          ]
        },
        {
          "output_type": "stream",
          "name": "stderr",
          "text": [
            "100%|█████████████████████████████████████████| 167/167 [00:04<00:00, 38.47it/s]\n"
          ]
        },
        {
          "output_type": "stream",
          "name": "stdout",
          "text": [
            "Task 4: Accuracy Test = 81.32%\n",
            "Starting Task 5 - Training on classes: [0, 1, 2, 3, 4, 5, 6, 7, 8, 9, 10, 11, 12, 13, 14, 15, 16, 17, 18, 19, 20, 21, 22, 23, 24, 25, 26, 27, 28, 29, 30, 31, 32, 33, 34, 35, 36, 37, 38, 39]\n"
          ]
        },
        {
          "output_type": "stream",
          "name": "stderr",
          "text": [
            "Epoch 0: 407it [00:12, 31.64it/s]\n",
            "100%|█████████████████████████████████████████| 407/407 [00:11<00:00, 34.31it/s]\n"
          ]
        },
        {
          "output_type": "stream",
          "name": "stdout",
          "text": [
            "Task 5, Epoch 1: Accuracy Train = 93.82%\n"
          ]
        },
        {
          "output_type": "stream",
          "name": "stderr",
          "text": [
            "100%|█████████████████████████████████████████| 194/194 [00:05<00:00, 38.43it/s]"
          ]
        },
        {
          "output_type": "stream",
          "name": "stdout",
          "text": [
            "Task 5: Accuracy Test = 80.21%\n"
          ]
        },
        {
          "output_type": "stream",
          "name": "stderr",
          "text": [
            "\n"
          ]
        },
        {
          "output_type": "display_data",
          "data": {
            "text/plain": [
              "<IPython.core.display.HTML object>"
            ],
            "text/html": []
          },
          "metadata": {}
        },
        {
          "output_type": "display_data",
          "data": {
            "text/plain": [
              "<IPython.core.display.HTML object>"
            ],
            "text/html": [
              "<br>    <style><br>        .wandb-row {<br>            display: flex;<br>            flex-direction: row;<br>            flex-wrap: wrap;<br>            justify-content: flex-start;<br>            width: 100%;<br>        }<br>        .wandb-col {<br>            display: flex;<br>            flex-direction: column;<br>            flex-basis: 100%;<br>            flex: 1;<br>            padding: 10px;<br>        }<br>    </style><br><div class=\"wandb-row\"><div class=\"wandb-col\"><h3>Run history:</h3><br/><table class=\"wandb\"><tr><td>incremental_accuracy</td><td>▁████</td></tr><tr><td>task</td><td>▁▃▅▆█</td></tr><tr><td>train/train_loss</td><td>▄▄▃▅▅▃▁▇▇▆▅▄▂▁▂▁▇▇▇▆▄▄▄▄▁▁▂███▇▇▆▃▃▂▁▁▁▁</td></tr></table><br/></div><div class=\"wandb-col\"><h3>Run summary:</h3><br/><table class=\"wandb\"><tr><td>incremental_accuracy</td><td>80.20985</td></tr><tr><td>task</td><td>4</td></tr><tr><td>train/train_loss</td><td>0.17364</td></tr></table><br/></div></div>"
            ]
          },
          "metadata": {}
        },
        {
          "output_type": "display_data",
          "data": {
            "text/plain": [
              "<IPython.core.display.HTML object>"
            ],
            "text/html": [
              " View run <strong style=\"color:#cdcd00\">Upper bound</strong> at: <a href='https://wandb.ai/rodrigozuiani-ensta-paris/GTSRB-CIL/runs/v0ruslob' target=\"_blank\">https://wandb.ai/rodrigozuiani-ensta-paris/GTSRB-CIL/runs/v0ruslob</a><br> View project at: <a href='https://wandb.ai/rodrigozuiani-ensta-paris/GTSRB-CIL' target=\"_blank\">https://wandb.ai/rodrigozuiani-ensta-paris/GTSRB-CIL</a><br>Synced 5 W&B file(s), 0 media file(s), 0 artifact file(s) and 0 other file(s)"
            ]
          },
          "metadata": {}
        },
        {
          "output_type": "display_data",
          "data": {
            "text/plain": [
              "<IPython.core.display.HTML object>"
            ],
            "text/html": [
              "Find logs at: <code>./wandb/run-20250131_111805-v0ruslob/logs</code>"
            ]
          },
          "metadata": {}
        }
      ]
    },
    {
      "cell_type": "markdown",
      "source": [
        "## Avoiding Forgetting"
      ],
      "metadata": {
        "id": "MvpeQkIBuVo6"
      }
    },
    {
      "cell_type": "markdown",
      "source": [
        "### Rehearsal + KD"
      ],
      "metadata": {
        "id": "7DwuSODjsz7S"
      }
    },
    {
      "cell_type": "code",
      "source": [
        "import collections\n",
        "\n",
        "# Rehearsal memory buffer\n",
        "class MemoryBuffer:\n",
        "    def __init__(self, size):\n",
        "        self.size = size\n",
        "        self.memory = collections.defaultdict(list)  # Store samples per class\n",
        "\n",
        "    def add_samples(self, images, labels):\n",
        "        for img, lbl in zip(images, labels):\n",
        "            # Keep buffer balanced by limiting samples per class\n",
        "            if len(self.memory[lbl]) > self.size // len(self.memory):\n",
        "                self.memory[lbl].pop(random.randint(0, len(self.memory[lbl]) - 1))  # Random removal\n",
        "\n",
        "            self.memory[lbl].append(img)\n",
        "\n",
        "    def get_samples(self, num_samples):\n",
        "        samples = []\n",
        "        classes = list(self.memory.keys())\n",
        "        if len(self.memory) < num_samples:\n",
        "            num_samples = len(self.memory)\n",
        "\n",
        "        while len(samples) < num_samples:\n",
        "            cls = random.choice(classes)\n",
        "            if self.memory[cls]:  # Ensure class has data\n",
        "                samples.append((self.memory[cls].pop(0), cls))  # Pop oldest sample\n",
        "\n",
        "        return samples\n",
        "\n",
        "def create_dataloader_rehearsal(dataset, targets, current_classes, batch_size, mem_labels, shuffle):\n",
        "    indices = [i for i, label in enumerate(targets) if label in current_classes or label in mem_labels]\n",
        "    subset = Subset(dataset, indices)\n",
        "    dataloader = DataLoader(subset, batch_size=batch_size, shuffle=shuffle)\n",
        "    return dataloader\n",
        "\n",
        "def get_indices_rehearsal(dataset, targets, current_classes):\n",
        "    indices = [i for i, label in enumerate(targets) if label in current_classes]\n",
        "    return indices\n",
        "\n",
        "def get_labels_rehearsal(dataset, targets, current_classes, indices):\n",
        "    labels = [label for i, label in enumerate(targets) if label in current_classes and i in indices]\n",
        "    return labels"
      ],
      "metadata": {
        "id": "7wQekjIv1J2P"
      },
      "execution_count": 17,
      "outputs": []
    },
    {
      "cell_type": "code",
      "source": [
        "def distillation_loss(student_outputs, teacher_outputs, temperature=2.0):\n",
        "    # Ensure student logits only consider old class outputs\n",
        "    student_outputs = student_outputs[:, :teacher_outputs.shape[1]]\n",
        "\n",
        "    soft_targets = nn.functional.softmax(teacher_outputs / temperature, dim=1)\n",
        "    soft_preds = nn.functional.log_softmax(student_outputs / temperature, dim=1)\n",
        "\n",
        "    return nn.functional.kl_div(soft_preds, soft_targets, reduction='batchmean')"
      ],
      "metadata": {
        "id": "iQqVviBj1cev"
      },
      "execution_count": 18,
      "outputs": []
    },
    {
      "cell_type": "code",
      "source": [
        "# Modified Training loop\n",
        "def rehearsal_kd_train_wandb(model, train_loader, optimizer, criterion, device, epoch):\n",
        "    step_ct = 0\n",
        "    n_steps_per_epoch = math.ceil(len(train_loader.dataset) / train_loader.batch_size)\n",
        "    teacher_model = None\n",
        "\n",
        "    model.train()\n",
        "\n",
        "    for step, (images, labels) in tqdm(enumerate(train_loader), ncols=80,  desc=\"Epoch {}\".format(epoch)):\n",
        "        images, labels = images.to(device), labels.to(device)\n",
        "        optimizer.zero_grad()\n",
        "        outputs = model(images)\n",
        "        loss = criterion(outputs, labels)\n",
        "\n",
        "        # Knowledge Distillation Loss\n",
        "        if teacher_model:\n",
        "            with torch.no_grad():\n",
        "                teacher_outputs = teacher_model(images.to(device))\n",
        "            loss += 0.5 * distillation_loss(outputs[:, :teacher_outputs.shape[1]], teacher_outputs, temperature=2.0)\n",
        "\n",
        "        loss.backward()\n",
        "        optimizer.step()\n",
        "\n",
        "        metrics = {\"train/train_loss\": loss}\n",
        "        # metrics = {\"train/train_loss\": loss,\n",
        "        #             \"train/epoch\": (step + 1 + (n_steps_per_epoch * epoch)) / n_steps_per_epoch}\n",
        "\n",
        "        if step + 1 < n_steps_per_epoch:\n",
        "          # Log train metrics to wandb\n",
        "          wandb.log(metrics)\n",
        "        step_ct += 1\n",
        "\n",
        "# Training loop for modified incremental learning\n",
        "def rehearsal_kd_incremental_learning_wandb(model, train_dataset, train_target, test_dataset, test_target,\n",
        "                         num_tasks, classes_per_task, batch_size, num_epochs, lr, device, non_incremental = False):\n",
        "    nclasses = len(np.unique(train_target))\n",
        "    all_classes = list(range(nclasses))\n",
        "    criterion = nn.CrossEntropyLoss()\n",
        "    current_classes = []\n",
        "    accuracies = []\n",
        "    memory_buffer = MemoryBuffer(size=2000)\n",
        "\n",
        "    # Copy your config\n",
        "    config = wandb.config\n",
        "\n",
        "    wandb.define_metric(\"task\")\n",
        "    wandb.define_metric(\"incremental_accuracy\", step_metric=\"task\")\n",
        "\n",
        "    for task in range(num_tasks):\n",
        "        if non_incremental == True: # Learn from all available data\n",
        "          task_classes = all_classes[0 : (task + 1) * classes_per_task]\n",
        "          current_classes = task_classes\n",
        "          model.apply(initialize_weights)\n",
        "        else:\n",
        "          task_classes = all_classes[task * classes_per_task : (task + 1) * classes_per_task]\n",
        "          current_classes.extend(task_classes)\n",
        "\n",
        "        if task == 0:\n",
        "            train_loader = create_dataloader(train_dataset, train_target, task_classes, batch_size, shuffle = True)\n",
        "        else:\n",
        "            # Rehearsal\n",
        "            mem_samples = memory_buffer.get_samples(train_loader.batch_size * 2)\n",
        "            mem_images, mem_labels = zip(*mem_samples)\n",
        "            mem_labels = torch.tensor(mem_labels).to(device)\n",
        "            train_loader = create_dataloader_rehearsal(train_dataset, train_target, task_classes, batch_size, mem_labels, shuffle = True)\n",
        "\n",
        "        test_loader = create_dataloader(test_dataset, test_target, current_classes, batch_size, shuffle = False)\n",
        "\n",
        "        if task == 0 or non_incremental == True:\n",
        "            model.fc = nn.Linear(model.fc.in_features, len(current_classes)).to(device)\n",
        "        else:\n",
        "            # Expand the output layer for new classes\n",
        "            old_weight = model.fc.weight.data\n",
        "            old_bias = model.fc.bias.data\n",
        "            model.fc = nn.Linear(model.fc.in_features, len(current_classes)).to(device)\n",
        "            model.fc.weight.data[:len(old_weight)] = old_weight\n",
        "            model.fc.bias.data[:len(old_bias)] = old_bias\n",
        "\n",
        "        optimizer = optim.SGD(model.parameters(), lr=lr, momentum=0.9, weight_decay=5e-4)\n",
        "        optimizer = torch.optim.Adam(model.parameters(), lr=lr)\n",
        "        scheduler = lr_scheduler.StepLR(optimizer, step_size=5, gamma=0.5)\n",
        "\n",
        "        print(f\"Starting Task {task+1} - Training on classes: {task_classes}\")\n",
        "        for epoch in range(num_epochs): # Adjust number of epochs\n",
        "            # If logging training (but not incremental)\n",
        "            rehearsal_kd_train_wandb(model, train_loader, optimizer, criterion, device, epoch)\n",
        "\n",
        "            scheduler.step()\n",
        "            accuracy = evaluate(model, train_loader, device)\n",
        "            print(f\"Task {task+1}, Epoch {epoch+1}: Accuracy Train = {accuracy:.2f}%\")\n",
        "\n",
        "            val_metrics = {\"val/val_accuracy\": accuracy}\n",
        "\n",
        "        accuracy = evaluate(model, test_loader, device)\n",
        "        accuracies.append(accuracy)\n",
        "        print(f\"Task {task+1}: Accuracy Test = {accuracy:.2f}%\")\n",
        "\n",
        "        incremental_metrics = {\"incremental_accuracy\": accuracy, \"task\": task}\n",
        "        wandb.log({**incremental_metrics})\n",
        "\n",
        "        # Rehearsal\n",
        "        indices = get_indices_rehearsal(train_dataset, train_target, task_classes)\n",
        "        sampled_indices = random.sample(indices, min(200, len(indices)))\n",
        "        mem_images = []\n",
        "        mem_labels = get_labels_rehearsal(train_dataset, train_target, task_classes, sampled_indices)\n",
        "        for i in sampled_indices:\n",
        "            mem_images.append(train_dataset[i][0])\n",
        "        memory_buffer.add_samples(mem_images, mem_labels)\n",
        "\n",
        "        # Update teacher model and memory buffer\n",
        "        if task == 0:  # For the first task, initialize the teacher model\n",
        "            teacher_model = copy.deepcopy(model)\n",
        "        else:\n",
        "            # Ensure teacher model output layer matches the student model's new architecture\n",
        "            teacher_model.fc = nn.Linear(model.fc.in_features, model.fc.out_features).to(device)\n",
        "\n",
        "            # Copy the entire model's state dictionary with mismatches ignored\n",
        "            teacher_model.load_state_dict(model.state_dict(), strict=False)\n",
        "\n",
        "    return accuracies\n",
        ""
      ],
      "metadata": {
        "id": "fOhX_kvNBCfo"
      },
      "execution_count": 1,
      "outputs": []
    },
    {
      "cell_type": "code",
      "source": [
        "#############################################\n",
        "## Rehearsal\n",
        "####\n",
        "# initialise a wandb run\n",
        "run = wandb.init(\n",
        "    project=\"GTSRB-CIL\",\n",
        "    name = \"Rehearsal + KD\",\n",
        "    config={\n",
        "        \"epochs\": num_epochs,\n",
        "        \"batch_size\": batch_size,\n",
        "        \"num_tasks\": num_tasks,\n",
        "        \"classes_per_task\": classes_per_task,\n",
        "        \"lr\": lr,\n",
        "        })\n",
        "\n",
        "# Incremental with Reheasal\n",
        "model = copy.deepcopy(copy_model)\n",
        "rehearsal_kd_incremental_learning_wandb(model, train_dataset, train_target, test_dataset, test_target,\n",
        "                      num_tasks, classes_per_task, batch_size, num_epochs, lr, device)\n",
        "wandb.finish()\n"
      ],
      "metadata": {
        "colab": {
          "base_uri": "https://localhost:8080/",
          "height": 1000
        },
        "id": "lwU6hMxP1nMv",
        "outputId": "e8754326-fb92-4f5f-9df0-f8257c5d6ecc"
      },
      "execution_count": 19,
      "outputs": [
        {
          "output_type": "stream",
          "name": "stderr",
          "text": [
            "\u001b[34m\u001b[1mwandb\u001b[0m: Using wandb-core as the SDK backend.  Please refer to https://wandb.me/wandb-core for more information.\n"
          ]
        },
        {
          "output_type": "display_data",
          "data": {
            "text/plain": [
              "<IPython.core.display.HTML object>"
            ],
            "text/html": [
              "Tracking run with wandb version 0.19.5"
            ]
          },
          "metadata": {}
        },
        {
          "output_type": "display_data",
          "data": {
            "text/plain": [
              "<IPython.core.display.HTML object>"
            ],
            "text/html": [
              "Run data is saved locally in <code>/content/wandb/run-20250131_141248-umbnbehi</code>"
            ]
          },
          "metadata": {}
        },
        {
          "output_type": "display_data",
          "data": {
            "text/plain": [
              "<IPython.core.display.HTML object>"
            ],
            "text/html": [
              "Syncing run <strong><a href='https://wandb.ai/rodrigozuiani-ensta-paris/GTSRB-CIL/runs/umbnbehi' target=\"_blank\">Rehearsal + KD</a></strong> to <a href='https://wandb.ai/rodrigozuiani-ensta-paris/GTSRB-CIL' target=\"_blank\">Weights & Biases</a> (<a href='https://wandb.me/developer-guide' target=\"_blank\">docs</a>)<br>"
            ]
          },
          "metadata": {}
        },
        {
          "output_type": "display_data",
          "data": {
            "text/plain": [
              "<IPython.core.display.HTML object>"
            ],
            "text/html": [
              " View project at <a href='https://wandb.ai/rodrigozuiani-ensta-paris/GTSRB-CIL' target=\"_blank\">https://wandb.ai/rodrigozuiani-ensta-paris/GTSRB-CIL</a>"
            ]
          },
          "metadata": {}
        },
        {
          "output_type": "display_data",
          "data": {
            "text/plain": [
              "<IPython.core.display.HTML object>"
            ],
            "text/html": [
              " View run at <a href='https://wandb.ai/rodrigozuiani-ensta-paris/GTSRB-CIL/runs/umbnbehi' target=\"_blank\">https://wandb.ai/rodrigozuiani-ensta-paris/GTSRB-CIL/runs/umbnbehi</a>"
            ]
          },
          "metadata": {}
        },
        {
          "output_type": "stream",
          "name": "stdout",
          "text": [
            "Starting Task 1 - Training on classes: [0, 1, 2, 3, 4, 5, 6, 7]\n"
          ]
        },
        {
          "output_type": "stream",
          "name": "stderr",
          "text": [
            "Epoch 0: 125it [00:23,  5.36it/s]\n",
            "100%|█████████████████████████████████████████| 125/125 [00:11<00:00, 10.93it/s]\n"
          ]
        },
        {
          "output_type": "stream",
          "name": "stdout",
          "text": [
            "Task 1, Epoch 1: Accuracy Train = 94.64%\n"
          ]
        },
        {
          "output_type": "stream",
          "name": "stderr",
          "text": [
            "100%|███████████████████████████████████████████| 61/61 [00:06<00:00,  9.20it/s]\n"
          ]
        },
        {
          "output_type": "stream",
          "name": "stdout",
          "text": [
            "Task 1: Accuracy Test = 86.67%\n",
            "Starting Task 2 - Training on classes: [8, 9, 10, 11, 12, 13, 14, 15]\n"
          ]
        },
        {
          "output_type": "stream",
          "name": "stderr",
          "text": [
            "Epoch 0: 188it [00:33,  5.64it/s]\n",
            "100%|█████████████████████████████████████████| 188/188 [00:23<00:00,  8.13it/s]\n"
          ]
        },
        {
          "output_type": "stream",
          "name": "stdout",
          "text": [
            "Task 2, Epoch 1: Accuracy Train = 98.52%\n"
          ]
        },
        {
          "output_type": "stream",
          "name": "stderr",
          "text": [
            "100%|█████████████████████████████████████████| 122/122 [00:12<00:00,  9.57it/s]\n"
          ]
        },
        {
          "output_type": "stream",
          "name": "stdout",
          "text": [
            "Task 2: Accuracy Test = 69.69%\n",
            "Starting Task 3 - Training on classes: [16, 17, 18, 19, 20, 21, 22, 23]\n"
          ]
        },
        {
          "output_type": "stream",
          "name": "stderr",
          "text": [
            "Epoch 0: 212it [00:41,  5.08it/s]\n",
            "100%|█████████████████████████████████████████| 212/212 [00:20<00:00, 10.24it/s]\n"
          ]
        },
        {
          "output_type": "stream",
          "name": "stdout",
          "text": [
            "Task 3, Epoch 1: Accuracy Train = 98.22%\n"
          ]
        },
        {
          "output_type": "stream",
          "name": "stderr",
          "text": [
            "100%|█████████████████████████████████████████| 144/144 [00:14<00:00,  9.84it/s]\n"
          ]
        },
        {
          "output_type": "stream",
          "name": "stdout",
          "text": [
            "Task 3: Accuracy Test = 62.93%\n",
            "Starting Task 4 - Training on classes: [24, 25, 26, 27, 28, 29, 30, 31]\n"
          ]
        },
        {
          "output_type": "stream",
          "name": "stderr",
          "text": [
            "Epoch 0: 270it [00:50,  5.40it/s]\n",
            "100%|█████████████████████████████████████████| 270/270 [00:28<00:00,  9.64it/s]\n"
          ]
        },
        {
          "output_type": "stream",
          "name": "stdout",
          "text": [
            "Task 4, Epoch 1: Accuracy Train = 99.33%\n"
          ]
        },
        {
          "output_type": "stream",
          "name": "stderr",
          "text": [
            "100%|█████████████████████████████████████████| 167/167 [00:16<00:00,  9.92it/s]\n"
          ]
        },
        {
          "output_type": "stream",
          "name": "stdout",
          "text": [
            "Task 4: Accuracy Test = 69.98%\n",
            "Starting Task 5 - Training on classes: [32, 33, 34, 35, 36, 37, 38, 39]\n"
          ]
        },
        {
          "output_type": "stream",
          "name": "stderr",
          "text": [
            "Epoch 0: 285it [00:53,  5.33it/s]\n",
            "100%|█████████████████████████████████████████| 285/285 [00:35<00:00,  8.04it/s]\n"
          ]
        },
        {
          "output_type": "stream",
          "name": "stdout",
          "text": [
            "Task 5, Epoch 1: Accuracy Train = 99.62%\n"
          ]
        },
        {
          "output_type": "stream",
          "name": "stderr",
          "text": [
            "100%|█████████████████████████████████████████| 194/194 [00:22<00:00,  8.44it/s]\n"
          ]
        },
        {
          "output_type": "stream",
          "name": "stdout",
          "text": [
            "Task 5: Accuracy Test = 65.42%\n"
          ]
        },
        {
          "output_type": "display_data",
          "data": {
            "text/plain": [
              "<IPython.core.display.HTML object>"
            ],
            "text/html": []
          },
          "metadata": {}
        },
        {
          "output_type": "display_data",
          "data": {
            "text/plain": [
              "<IPython.core.display.HTML object>"
            ],
            "text/html": [
              "<br>    <style><br>        .wandb-row {<br>            display: flex;<br>            flex-direction: row;<br>            flex-wrap: wrap;<br>            justify-content: flex-start;<br>            width: 100%;<br>        }<br>        .wandb-col {<br>            display: flex;<br>            flex-direction: column;<br>            flex-basis: 100%;<br>            flex: 1;<br>            padding: 10px;<br>        }<br>    </style><br><div class=\"wandb-row\"><div class=\"wandb-col\"><h3>Run history:</h3><br/><table class=\"wandb\"><tr><td>incremental_accuracy</td><td>█▃▁▃▂</td></tr><tr><td>task</td><td>▁▃▅▆█</td></tr><tr><td>train/train_loss</td><td>▅▄▃▂▃▂█▃▂▁▁▂▁▂▂▁▂▂▁▂▅▄▂▂▂▂▁▂▁▂▁▂▁▅▁▁▁▁▁▁</td></tr></table><br/></div><div class=\"wandb-col\"><h3>Run summary:</h3><br/><table class=\"wandb\"><tr><td>incremental_accuracy</td><td>65.42373</td></tr><tr><td>task</td><td>4</td></tr><tr><td>train/train_loss</td><td>0.06523</td></tr></table><br/></div></div>"
            ]
          },
          "metadata": {}
        },
        {
          "output_type": "display_data",
          "data": {
            "text/plain": [
              "<IPython.core.display.HTML object>"
            ],
            "text/html": [
              " View run <strong style=\"color:#cdcd00\">Rehearsal + KD</strong> at: <a href='https://wandb.ai/rodrigozuiani-ensta-paris/GTSRB-CIL/runs/umbnbehi' target=\"_blank\">https://wandb.ai/rodrigozuiani-ensta-paris/GTSRB-CIL/runs/umbnbehi</a><br> View project at: <a href='https://wandb.ai/rodrigozuiani-ensta-paris/GTSRB-CIL' target=\"_blank\">https://wandb.ai/rodrigozuiani-ensta-paris/GTSRB-CIL</a><br>Synced 5 W&B file(s), 0 media file(s), 0 artifact file(s) and 0 other file(s)"
            ]
          },
          "metadata": {}
        },
        {
          "output_type": "display_data",
          "data": {
            "text/plain": [
              "<IPython.core.display.HTML object>"
            ],
            "text/html": [
              "Find logs at: <code>./wandb/run-20250131_141248-umbnbehi/logs</code>"
            ]
          },
          "metadata": {}
        }
      ]
    }
  ],
  "metadata": {
    "accelerator": "GPU",
    "colab": {
      "gpuType": "T4",
      "provenance": [],
      "toc_visible": true
    },
    "kernelspec": {
      "display_name": "Python 3",
      "name": "python3"
    }
  },
  "nbformat": 4,
  "nbformat_minor": 0
}