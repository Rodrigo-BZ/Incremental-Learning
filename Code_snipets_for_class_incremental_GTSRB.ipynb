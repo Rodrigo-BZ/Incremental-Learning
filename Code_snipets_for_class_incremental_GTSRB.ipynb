{
  "cells": [
    {
      "cell_type": "markdown",
      "source": [
        "\n",
        "\n",
        "---\n",
        "\n",
        "\n",
        "# Class incremental learning on the GTSRB dataset\n",
        "\n",
        "\n",
        "\n",
        "---\n",
        "\n",
        "\n",
        "This notebook contains several code snippets to help for your project:\n",
        "\n",
        "- data loaders\n",
        "- A baseline for incremental learning using fine-tuning\n",
        "- Examples of how to use Weight & Biases for logging your results.\n",
        "\n"
      ],
      "metadata": {
        "id": "ZQjHV8nwSu0E"
      }
    },
    {
      "cell_type": "code",
      "execution_count": 2,
      "metadata": {
        "id": "c6J4ap8k7k79"
      },
      "outputs": [],
      "source": [
        "####################################\n",
        "### Useful imports\n",
        "############################\n",
        "\n",
        "import torch\n",
        "import torch.nn as nn\n",
        "import torch.nn.init as init\n",
        "import torch.optim as optim\n",
        "import torch.nn.functional as F\n",
        "from torch.utils.data import DataLoader, ConcatDataset, Subset\n",
        "from torchvision.utils import make_grid\n",
        "from torchvision import transforms, datasets\n",
        "import torchvision.models as models\n",
        "from torchvision.transforms import v2\n",
        "import copy\n",
        "\n",
        "import numpy as np\n",
        "import random\n",
        "import time, os\n",
        "import matplotlib.pyplot as plt\n",
        "from PIL import Image\n",
        "from tqdm import tqdm\n",
        "import pandas as pd\n",
        "import math\n",
        "\n",
        "device = torch.device(\"cuda:0\" if torch.cuda.is_available() else \"cpu\")\n"
      ]
    },
    {
      "cell_type": "code",
      "execution_count": 3,
      "metadata": {
        "colab": {
          "base_uri": "https://localhost:8080/"
        },
        "id": "BdBUgULZ-75F",
        "outputId": "a0de7906-55b0-461e-ebe5-0cf31f49c727"
      },
      "outputs": [
        {
          "output_type": "stream",
          "name": "stdout",
          "text": [
            "Drive already mounted at /content/gdrive/; to attempt to forcibly remount, call drive.mount(\"/content/gdrive/\", force_remount=True).\n"
          ]
        }
      ],
      "source": [
        "# Useful if you want to store intermediate results on your drive\n",
        "from google.colab import drive\n",
        "\n",
        "drive.mount('/content/gdrive/')\n",
        "DATA_DIR =  '/content/gdrive/MyDrive/teaching/ENSTA/2024'\n"
      ]
    },
    {
      "cell_type": "code",
      "execution_count": 4,
      "metadata": {
        "id": "mLLmoj5nhhli"
      },
      "outputs": [],
      "source": [
        "# Check if GPU is available\n",
        "if torch.cuda.is_available():\n",
        "  !nvidia-smi"
      ]
    },
    {
      "cell_type": "markdown",
      "source": [
        "## Data loaders"
      ],
      "metadata": {
        "id": "zdRoUYxVqicA"
      }
    },
    {
      "cell_type": "code",
      "execution_count": 5,
      "metadata": {
        "id": "5yjcnoUN7xVJ"
      },
      "outputs": [],
      "source": [
        "# Define transformations\n",
        "transform_train = transforms.Compose([\n",
        "    transforms.RandomResizedCrop(32),\n",
        "    transforms.RandomHorizontalFlip(),\n",
        "    transforms.ToTensor(),\n",
        "    #transforms.Normalize((0.3403, 0.3121, 0.3214), (0.2724, 0.2608, 0.2669)) # GTSRB stats\n",
        "])\n",
        "\n",
        "transform_test = transforms.Compose([\n",
        "    transforms.Resize(32),\n",
        "    transforms.ToTensor(),\n",
        "    #transforms.Normalize((0.3403, 0.3121, 0.3214), (0.2724, 0.2608, 0.2669))\n",
        "])\n",
        "\n",
        "transform_train = v2.Compose([\n",
        "    #v2.Grayscale(),\n",
        "    #v2.RandomResizedCrop(32),\n",
        "    v2.Resize((32,32)),\n",
        "    v2.ToImage(),\n",
        "    v2.ToDtype(torch.float32, scale=True),\n",
        "    #v2.Normalize((0.3403, 0.3121, 0.3214), (0.2724, 0.2608, 0.2669)) # GTSRB stats\n",
        "])\n",
        "\n",
        "transform_test = v2.Compose([\n",
        "    #v2.Grayscale(),\n",
        "    v2.Resize((32,32)),\n",
        "    v2.ToImage(),\n",
        "    v2.ToDtype(torch.float32, scale=True),\n",
        "    #v2.Normalize((0.3403, 0.3121, 0.3214), (0.2724, 0.2608, 0.2669)) # GTSRB stats\n",
        "])\n",
        "\n",
        "# Define dataset and dataloader\n",
        "def get_dataset(root_dir, transform, train=True):\n",
        "    dataset = datasets.GTSRB(root=root_dir, split='train' if train else 'test', download=True, transform=transform)\n",
        "    target = [data[1] for data in dataset]\n",
        "    return dataset, target\n",
        "\n",
        "def create_dataloader(dataset, targets, current_classes, batch_size, shuffle):\n",
        "    indices = [i for i, label in enumerate(targets) if label in current_classes]\n",
        "    subset = Subset(dataset, indices)\n",
        "    dataloader = DataLoader(subset, batch_size=batch_size, shuffle=shuffle)\n",
        "    return dataloader\n"
      ]
    },
    {
      "cell_type": "code",
      "source": [
        "# Loads datasets (on your local computer)\n",
        "root_dir = '/home/rodri/OneDrive/Documentos/ENSTA/2A/ML/Incremental-Learning/'\n",
        "\n",
        "# Loads datasets (on Colab local computer)\n",
        "root_dir = './data'\n",
        "\n",
        "train_dataset = datasets.GTSRB(root=root_dir, split='train', download=True, transform=transform_train)\n",
        "test_dataset = datasets.GTSRB(root=root_dir, split='test', download=True, transform=transform_test)\n",
        "\n",
        "print(f\"Train dataset contains {len(train_dataset)} images\")\n",
        "print(f\"Test dataset contains {len(test_dataset)} images\")\n",
        "\n",
        "# Loads target id lists (not in torchvision dataset)rm *.\n",
        "import csv\n",
        "! wget https://raw.githubusercontent.com/stepherbin/teaching/refs/heads/master/ENSTA/MI201/test_target.csv -O data/gtsrb/test_target.csv\n",
        "test_target=[]\n",
        "with open('data/gtsrb/test_target.csv') as f:\n",
        "    reader = csv.reader(f)\n",
        "    for row in reader:\n",
        "        test_target += [int(el) for el in row]\n",
        "\n",
        "! wget https://raw.githubusercontent.com/stepherbin/teaching/refs/heads/master/ENSTA/MI201/train_target.csv -O data/gtsrb/train_target.csv\n",
        "train_target=[]\n",
        "with open('data/gtsrb/train_target.csv') as f:\n",
        "    reader = csv.reader(f)\n",
        "    for row in reader:\n",
        "        train_target += [int(el) for el in row]\n",
        "\n",
        "# Loads class names (not in torchvision dataset)\n",
        "! wget https://raw.githubusercontent.com/stepherbin/teaching/refs/heads/master/ENSTA/MI201/signnames.csv -O data/gtsrb/signnames.csv\n",
        "classes = pd.read_csv('data/gtsrb/signnames.csv')\n",
        "class_names = []\n",
        "for i, row in classes.iterrows():\n",
        "    class_names.append(row[1])"
      ],
      "metadata": {
        "colab": {
          "base_uri": "https://localhost:8080/"
        },
        "id": "KbdRiiin8q6n",
        "outputId": "6ff0ea80-1a7c-4011-988d-7a98959890f4"
      },
      "execution_count": 6,
      "outputs": [
        {
          "output_type": "stream",
          "name": "stdout",
          "text": [
            "Train dataset contains 26640 images\n",
            "Test dataset contains 12630 images\n",
            "--2025-01-30 11:41:45--  https://raw.githubusercontent.com/stepherbin/teaching/refs/heads/master/ENSTA/MI201/test_target.csv\n",
            "Resolving raw.githubusercontent.com (raw.githubusercontent.com)... 185.199.111.133, 185.199.109.133, 185.199.110.133, ...\n",
            "Connecting to raw.githubusercontent.com (raw.githubusercontent.com)|185.199.111.133|:443... connected.\n",
            "HTTP request sent, awaiting response... 200 OK\n",
            "Length: 33090 (32K) [text/plain]\n",
            "Saving to: ‘data/gtsrb/test_target.csv’\n",
            "\n",
            "data/gtsrb/test_tar 100%[===================>]  32.31K  --.-KB/s    in 0.02s   \n",
            "\n",
            "2025-01-30 11:41:46 (1.96 MB/s) - ‘data/gtsrb/test_target.csv’ saved [33090/33090]\n",
            "\n",
            "--2025-01-30 11:41:46--  https://raw.githubusercontent.com/stepherbin/teaching/refs/heads/master/ENSTA/MI201/train_target.csv\n",
            "Resolving raw.githubusercontent.com (raw.githubusercontent.com)... 185.199.111.133, 185.199.109.133, 185.199.110.133, ...\n",
            "Connecting to raw.githubusercontent.com (raw.githubusercontent.com)|185.199.111.133|:443... connected.\n",
            "HTTP request sent, awaiting response... 200 OK\n",
            "Length: 70020 (68K) [text/plain]\n",
            "Saving to: ‘data/gtsrb/train_target.csv’\n",
            "\n",
            "data/gtsrb/train_ta 100%[===================>]  68.38K  --.-KB/s    in 0.03s   \n",
            "\n",
            "2025-01-30 11:41:46 (2.08 MB/s) - ‘data/gtsrb/train_target.csv’ saved [70020/70020]\n",
            "\n",
            "--2025-01-30 11:41:47--  https://raw.githubusercontent.com/stepherbin/teaching/refs/heads/master/ENSTA/MI201/signnames.csv\n",
            "Resolving raw.githubusercontent.com (raw.githubusercontent.com)... 185.199.108.133, 185.199.109.133, 185.199.110.133, ...\n",
            "Connecting to raw.githubusercontent.com (raw.githubusercontent.com)|185.199.108.133|:443... connected.\n",
            "HTTP request sent, awaiting response... 200 OK\n",
            "Length: 999 [text/plain]\n",
            "Saving to: ‘data/gtsrb/signnames.csv’\n",
            "\n",
            "data/gtsrb/signname 100%[===================>]     999  --.-KB/s    in 0s      \n",
            "\n",
            "2025-01-30 11:41:47 (52.1 MB/s) - ‘data/gtsrb/signnames.csv’ saved [999/999]\n",
            "\n"
          ]
        },
        {
          "output_type": "stream",
          "name": "stderr",
          "text": [
            "<ipython-input-6-f5f0fd534a2f>:34: FutureWarning: Series.__getitem__ treating keys as positions is deprecated. In a future version, integer keys will always be treated as labels (consistent with DataFrame behavior). To access a value by position, use `ser.iloc[pos]`\n",
            "  class_names.append(row[1])\n"
          ]
        }
      ]
    },
    {
      "cell_type": "markdown",
      "source": [
        "## Display of images"
      ],
      "metadata": {
        "id": "G9om6EjQqqVD"
      }
    },
    {
      "cell_type": "code",
      "execution_count": 7,
      "metadata": {
        "colab": {
          "base_uri": "https://localhost:8080/",
          "height": 452
        },
        "id": "IIrmJhgmcL8u",
        "outputId": "1b8e2320-7085-4b7c-9562-081b16398f33"
      },
      "outputs": [
        {
          "output_type": "display_data",
          "data": {
            "text/plain": [
              "<Figure size 640x480 with 1 Axes>"
            ],
            "image/png": "[encoded data removed]"
          },
          "metadata": {}
        },
        {
          "output_type": "stream",
          "name": "stdout",
          "text": [
            "torch.Size([64, 3, 32, 32])\n"
          ]
        }
      ],
      "source": [
        "nclasses = len(np.unique(train_target))\n",
        "all_classes = list(range(nclasses))\n",
        "#random.shuffle(all_classes)\n",
        "classes_per_task = 8\n",
        "current_classes = []\n",
        "\n",
        "task = 0\n",
        "task_classes = all_classes[task * classes_per_task : (task + 1) * classes_per_task]\n",
        "current_classes.extend(task_classes)\n",
        "batch_size = 64\n",
        "\n",
        "# Create data for first task\n",
        "train_loader = create_dataloader(train_dataset, train_target, current_classes, batch_size, shuffle = True)\n",
        "test_loader = create_dataloader(train_dataset, train_target, current_classes, batch_size, shuffle = True)\n",
        "\n",
        "# Displays a few examples\n",
        "def show(img):\n",
        "    npimg = img.numpy()\n",
        "    plt.imshow(np.transpose(npimg, (1,2,0)), interpolation='nearest')\n",
        "\n",
        "sample,targets = next(iter(train_loader))\n",
        "show(make_grid(sample))\n",
        "plt.show()\n",
        "\n",
        "print(sample.shape)     ## 64 is the batch\n",
        "                        ## 1 for grey values --  3 for RGB\n",
        "                        ## 32x32 for mage size (small here)\n"
      ]
    },
    {
      "cell_type": "code",
      "execution_count": 8,
      "metadata": {
        "colab": {
          "base_uri": "https://localhost:8080/"
        },
        "id": "RrkguKhbC4uo",
        "outputId": "ad374400-e7db-482b-b1af-8db5c921ddad"
      },
      "outputs": [
        {
          "output_type": "stream",
          "name": "stdout",
          "text": [
            "750 \t 2 \t Speed limit (50km/h)\n",
            "720 \t 1 \t Speed limit (30km/h)\n",
            "720 \t 13 \t Yield\n",
            "690 \t 38 \t Keep right\n",
            "690 \t 12 \t Priority road\n",
            "660 \t 4 \t Speed limit (70km/h)\n",
            "660 \t 10 \t No passing for vechiles over 3.5 metric tons\n",
            "630 \t 5 \t Speed limit (80km/h)\n",
            "480 \t 25 \t Road work\n",
            "480 \t 9 \t No passing\n",
            "450 \t 7 \t Speed limit (100km/h)\n",
            "450 \t 3 \t Speed limit (60km/h)\n",
            "450 \t 8 \t Speed limit (120km/h)\n",
            "420 \t 11 \t Right-of-way at the next intersection\n",
            "390 \t 18 \t General caution\n",
            "390 \t 35 \t Ahead only\n",
            "360 \t 17 \t No entry\n",
            "270 \t 14 \t Stop\n",
            "270 \t 31 \t Wild animals crossing\n",
            "210 \t 33 \t Turn right ahead\n",
            "210 \t 15 \t No vechiles\n",
            "180 \t 26 \t Traffic signals\n",
            "150 \t 16 \t Vechiles over 3.5 metric tons prohibited\n",
            "150 \t 23 \t Slippery road\n",
            "150 \t 30 \t Beware of ice/snow\n",
            "150 \t 28 \t Children crossing\n",
            "150 \t 6 \t End of speed limit (80km/h)\n",
            "120 \t 34 \t Turn left ahead\n",
            "120 \t 22 \t Bumpy road\n",
            "120 \t 36 \t Go straight or right\n",
            "90 \t 21 \t Double curve\n",
            "90 \t 20 \t Dangerous curve to the right\n",
            "90 \t 24 \t Road narrows on the right\n",
            "90 \t 29 \t Bicycles crossing\n",
            "90 \t 40 \t Roundabout mandatory\n",
            "90 \t 39 \t Keep left\n",
            "90 \t 42 \t End of no passing by vechiles over 3.5 metric tons\n",
            "60 \t 27 \t Pedestrians\n",
            "60 \t 32 \t End of all speed and passing limits\n",
            "60 \t 41 \t End of no passing\n",
            "60 \t 19 \t Dangerous curve to the left\n",
            "60 \t 0 \t Speed limit (20km/h)\n",
            "60 \t 37 \t Go straight or left\n"
          ]
        }
      ],
      "source": [
        "test_loader = create_dataloader(train_dataset, train_target, all_classes, batch_size, shuffle = True)\n",
        "\n",
        "# Get the data from the test set and computes statistics\n",
        "# gtsrbtest_gt = []\n",
        "# for _, targets in test_loader:\n",
        "#   gtsrbtest_gt += targets.numpy().tolist()\n",
        "# print(len(gtsrbtest_gt))\n",
        "\n",
        "from collections import Counter\n",
        "\n",
        "label_counts = Counter(test_target).most_common()\n",
        "for l, c in label_counts:\n",
        "    print(c, '\\t', l, '\\t', class_names[l])"
      ]
    },
    {
      "cell_type": "markdown",
      "source": [
        "## Simple networks"
      ],
      "metadata": {
        "id": "SPAkBgRiqyyf"
      }
    },
    {
      "cell_type": "code",
      "execution_count": 9,
      "metadata": {
        "id": "0z2ycNRS-xnq"
      },
      "outputs": [],
      "source": [
        "# Define a simple CNN model\n",
        "class SimpleCNN(nn.Module):\n",
        "    def __init__(self,n_out=10, n_in=1):\n",
        "        super().__init__()\n",
        "\n",
        "        # Put the layers here\n",
        "        self.conv1 = nn.Conv2d(n_in, 32, kernel_size=5, padding=2)\n",
        "        self.conv2 = nn.Conv2d(32, 64, kernel_size=3, padding=1)\n",
        "        self.conv3 = nn.Conv2d(64, 64, kernel_size=3, padding=1)\n",
        "\n",
        "        self.fc = nn.Linear(4096, n_out)\n",
        "\n",
        "    def forward(self, x):\n",
        "        x = F.leaky_relu(self.conv1(x)) ## l'image 1x32x32 devient 32x32x32\n",
        "        x = F.max_pool2d(x, kernel_size=2, stride=2) ## puis 32x16x16\n",
        "        x = F.leaky_relu(self.conv2(x)) ## puis devient 64x16x16\n",
        "        x = F.max_pool2d(x, kernel_size=2, stride=2) ## puis devient 64x8x8\n",
        "        x = F.leaky_relu(self.conv3(x)) ## pas de changement\n",
        "\n",
        "        x = x.view(-1,4096) ## 64x8x8 devient 4096\n",
        "\n",
        "        x = self.fc(x) ## on finit exactement de la même façon\n",
        "\n",
        "        return x\n",
        "\n",
        "# Another simple model (compare them using torchinfo below)\n",
        "class SimpleCNN2(nn.Module):\n",
        "    def __init__(self, n_out=10, n_in=1):\n",
        "        super(SimpleCNN2, self).__init__()\n",
        "        self.conv1 = nn.Conv2d(n_in, 32, kernel_size=3, padding=1)\n",
        "        self.conv2 = nn.Conv2d(32, 64, kernel_size=3, padding=1)\n",
        "        self.fc1 = nn.Linear(64 * 8 * 8, 128)\n",
        "        self.fc = nn.Linear(128, n_out)\n",
        "        self.pool = nn.MaxPool2d(2, 2)\n",
        "        self.relu = nn.ReLU()\n",
        "\n",
        "    def forward(self, x):\n",
        "        x = self.pool(self.relu(self.conv1(x)))\n",
        "        x = self.pool(self.relu(self.conv2(x)))\n",
        "        x = x.view(-1, 64 * 8 * 8)  # Flatten the tensor\n",
        "        x = self.relu(self.fc1(x))\n",
        "        x = self.fc(x)\n",
        "        return x"
      ]
    },
    {
      "cell_type": "code",
      "execution_count": 10,
      "metadata": {
        "colab": {
          "base_uri": "https://localhost:8080/"
        },
        "id": "_gIfiLiF-vhv",
        "outputId": "44483db7-b6a4-4342-c439-f4c9cf356d90"
      },
      "outputs": [
        {
          "output_type": "stream",
          "name": "stdout",
          "text": [
            "Requirement already satisfied: torchinfo in /usr/local/lib/python3.11/dist-packages (1.8.0)\n",
            "==========================================================================================\n",
            "Layer (type:depth-idx)                   Output Shape              Param #\n",
            "==========================================================================================\n",
            "SimpleCNN2                               [64, 10]                  --\n",
            "├─Conv2d: 1-1                            [64, 32, 32, 32]          896\n",
            "├─ReLU: 1-2                              [64, 32, 32, 32]          --\n",
            "├─MaxPool2d: 1-3                         [64, 32, 16, 16]          --\n",
            "├─Conv2d: 1-4                            [64, 64, 16, 16]          18,496\n",
            "├─ReLU: 1-5                              [64, 64, 16, 16]          --\n",
            "├─MaxPool2d: 1-6                         [64, 64, 8, 8]            --\n",
            "├─Linear: 1-7                            [64, 128]                 524,416\n",
            "├─ReLU: 1-8                              [64, 128]                 --\n",
            "├─Linear: 1-9                            [64, 10]                  1,290\n",
            "==========================================================================================\n",
            "Total params: 545,098\n",
            "Trainable params: 545,098\n",
            "Non-trainable params: 0\n",
            "Total mult-adds (Units.MEGABYTES): 395.40\n",
            "==========================================================================================\n",
            "Input size (MB): 0.79\n",
            "Forward/backward pass size (MB): 25.24\n",
            "Params size (MB): 2.18\n",
            "Estimated Total Size (MB): 28.20\n",
            "==========================================================================================\n",
            "==========================================================================================\n",
            "Layer (type:depth-idx)                   Output Shape              Param #\n",
            "==========================================================================================\n",
            "SimpleCNN                                [64, 10]                  --\n",
            "├─Conv2d: 1-1                            [64, 32, 32, 32]          2,432\n",
            "├─Conv2d: 1-2                            [64, 64, 16, 16]          18,496\n",
            "├─Conv2d: 1-3                            [64, 64, 8, 8]            36,928\n",
            "├─Linear: 1-4                            [64, 10]                  40,970\n",
            "==========================================================================================\n",
            "Total params: 98,826\n",
            "Trainable params: 98,826\n",
            "Non-trainable params: 0\n",
            "Total mult-adds (Units.MEGABYTES): 616.30\n",
            "==========================================================================================\n",
            "Input size (MB): 0.79\n",
            "Forward/backward pass size (MB): 27.27\n",
            "Params size (MB): 0.40\n",
            "Estimated Total Size (MB): 28.45\n",
            "==========================================================================================\n"
          ]
        }
      ],
      "source": [
        "!pip install torchinfo\n",
        "from torchinfo import summary\n",
        "\n",
        "model = SimpleCNN2(n_out=10, n_in=3)\n",
        "model.to(device)\n",
        "print(summary(model, input_size=(batch_size, 3, 32, 32)))\n",
        "\n",
        "model = SimpleCNN(n_out=10, n_in=3)\n",
        "model.to(device)\n",
        "print(summary(model, input_size=(batch_size, 3, 32, 32)))\n",
        "\n",
        "#print(model)"
      ]
    },
    {
      "cell_type": "markdown",
      "source": [
        "## Baseline for incremental learning"
      ],
      "metadata": {
        "id": "f04OhO2GkqzO"
      }
    },
    {
      "cell_type": "code",
      "execution_count": 11,
      "metadata": {
        "id": "WuVL2YbW4T_a"
      },
      "outputs": [],
      "source": [
        "from torch.optim import lr_scheduler\n",
        "import torch.nn.init as init\n",
        "\n",
        "# Evaluation\n",
        "def evaluate(model, test_loader, device):\n",
        "    model.eval()\n",
        "    correct = 0\n",
        "    total = 0\n",
        "    with torch.no_grad():\n",
        "        for images, labels in tqdm(test_loader, ncols=80):\n",
        "            images, labels = images.to(device), labels.to(device)\n",
        "            outputs = model(images)\n",
        "            _, predicted = torch.max(outputs.data, 1)\n",
        "            total += labels.size(0)\n",
        "            correct += (predicted == labels).sum().item()\n",
        "    return 100 * correct / total\n",
        "\n",
        "# Simple Training loop\n",
        "def train(model, train_loader, optimizer, criterion, device, epoch):\n",
        "    model.train()\n",
        "\n",
        "    for images, labels in tqdm(train_loader, ncols=80,  desc=\"Epoch {}\".format(epoch)):\n",
        "        images, labels = images.to(device), labels.to(device)\n",
        "        optimizer.zero_grad()\n",
        "        outputs = model(images)\n",
        "        loss = criterion(outputs, labels)\n",
        "        loss.backward()\n",
        "        optimizer.step()\n",
        "\n",
        "def initialize_weights(module):\n",
        "    \"\"\"Initializes the weights of a PyTorch module using Xavier/Glorot initialization.\"\"\"\n",
        "    if isinstance(module, (nn.Linear, nn.Conv2d, nn.ConvTranspose2d)):  # Check for relevant layers\n",
        "        init.xavier_uniform_(module.weight) #Xavier uniform initialization\n",
        "        if module.bias is not None:\n",
        "            init.zeros_(module.bias)  # Initialize bias to zero\n",
        "    elif isinstance(module, (nn.BatchNorm2d, nn.LayerNorm, nn.GroupNorm)): #Initialize normalization layers\n",
        "        if module.weight is not None:\n",
        "            init.ones_(module.weight)\n",
        "        if module.bias is not None:\n",
        "            init.zeros_(module.bias)\n",
        "\n",
        "\n",
        "# Main training loop for incremental learning\n",
        "def incremental_learning(model, train_dataset, train_target, test_dataset, test_target,\n",
        "                         num_tasks, classes_per_task, batch_size, num_epochs, lr, device):\n",
        "    nclasses = len(np.unique(train_target))\n",
        "    all_classes = list(range(nclasses))\n",
        "    criterion = nn.CrossEntropyLoss()\n",
        "    current_classes = []\n",
        "    accuracies = []\n",
        "\n",
        "    for task in range(num_tasks):\n",
        "        task_classes = all_classes[task * classes_per_task : (task + 1) * classes_per_task]\n",
        "        current_classes.extend(task_classes)\n",
        "\n",
        "        train_loader = create_dataloader(train_dataset, train_target, task_classes, batch_size, shuffle = True)\n",
        "        test_loader = create_dataloader(test_dataset, test_target, current_classes, batch_size, shuffle = False)\n",
        "\n",
        "        if task == 0:\n",
        "            model.fc = nn.Linear(model.fc.in_features, len(current_classes)).to(device)\n",
        "        else:\n",
        "            # Expand the output layer for new classes\n",
        "            old_weight = model.fc.weight.data\n",
        "            old_bias = model.fc.bias.data\n",
        "            model.fc = nn.Linear(model.fc.in_features, len(current_classes)).to(device)\n",
        "            model.fc.weight.data[:len(old_weight)] = old_weight\n",
        "            model.fc.bias.data[:len(old_bias)] = old_bias\n",
        "\n",
        "        optimizer = optim.SGD(model.parameters(), lr=lr, momentum=0.9, weight_decay=5e-4)\n",
        "        optimizer = torch.optim.Adam(model.parameters(), lr=lr)\n",
        "        scheduler = lr_scheduler.StepLR(optimizer, step_size=5, gamma=0.5)\n",
        "\n",
        "        print(f\"Starting Task {task+1} - Training on classes: {task_classes}\")\n",
        "        for epoch in range(num_epochs): # Adjust number of epochs as needed\n",
        "            train(model, train_loader, optimizer, criterion, device, epoch)\n",
        "            scheduler.step()\n",
        "            accuracy = evaluate(model, train_loader, device)\n",
        "            print(f\"Task {task+1}, Epoch {epoch+1}: Accuracy Train = {accuracy:.2f}%\")\n",
        "        accuracy = evaluate(model, test_loader, device)\n",
        "        accuracies.append(accuracy)\n",
        "        print(f\"Task {task+1}: Accuracy Test = {accuracy:.2f}%\")\n",
        "\n",
        "    return accuracies\n",
        "\n"
      ]
    },
    {
      "cell_type": "markdown",
      "source": [
        "## Weight & Biases\n",
        "\n",
        "You can use this environement to log your learning.\n",
        "\n",
        "The code below provides a version of the class incremental function that stores learning curves and the seauence of accuracies for each increment of classes.\n",
        "\n",
        "Tu use it, create an account at: https://wandb.ai/"
      ],
      "metadata": {
        "id": "Uio21fDojgTD"
      }
    },
    {
      "cell_type": "code",
      "execution_count": 1,
      "metadata": {
        "colab": {
          "base_uri": "https://localhost:8080/"
        },
        "id": "B98gHkBTHUbX",
        "outputId": "730cbb20-e28d-4ba7-8591-aa3ee40790b6"
      },
      "outputs": [
        {
          "output_type": "stream",
          "name": "stderr",
          "text": [
            "\u001b[34m\u001b[1mwandb\u001b[0m: Currently logged in as: \u001b[33mrodrigozuiani\u001b[0m (\u001b[33mrodrigozuiani-ensta-paris\u001b[0m) to \u001b[32mhttps://api.wandb.ai\u001b[0m. Use \u001b[1m`wandb login --relogin`\u001b[0m to force relogin\n"
          ]
        },
        {
          "output_type": "execute_result",
          "data": {
            "text/plain": [
              "True"
            ]
          },
          "metadata": {},
          "execution_count": 1
        }
      ],
      "source": [
        "###################################\n",
        "##### For using Weight & Biases\n",
        "###############\n",
        "\n",
        "!pip install wandb -qU\n",
        "\n",
        "import wandb\n",
        "\n",
        "wandb.login()\n"
      ]
    },
    {
      "cell_type": "code",
      "execution_count": 12,
      "metadata": {
        "id": "AC_ixhkpOFZj"
      },
      "outputs": [],
      "source": [
        "import math\n",
        "# Simple Training loop\n",
        "def train_wandb(model, train_loader, optimizer, criterion, device, epoch):\n",
        "\n",
        "    step_ct = 0\n",
        "    n_steps_per_epoch = math.ceil(len(train_loader.dataset) / train_loader.batch_size)\n",
        "\n",
        "    model.train()\n",
        "\n",
        "    for step, (images, labels) in tqdm(enumerate(train_loader), ncols=80,  desc=\"Epoch {}\".format(epoch)):\n",
        "        images, labels = images.to(device), labels.to(device)\n",
        "        optimizer.zero_grad()\n",
        "        outputs = model(images)\n",
        "        loss = criterion(outputs, labels)\n",
        "        loss.backward()\n",
        "        optimizer.step()\n",
        "\n",
        "        metrics = {\"train/train_loss\": loss}\n",
        "        # metrics = {\"train/train_loss\": loss,\n",
        "        #             \"train/epoch\": (step + 1 + (n_steps_per_epoch * epoch)) / n_steps_per_epoch}\n",
        "\n",
        "        if step + 1 < n_steps_per_epoch:\n",
        "          # Log train metrics to wandb\n",
        "          wandb.log(metrics)\n",
        "        step_ct += 1\n",
        "\n",
        "\n",
        "# Main training loop for incremental learning\n",
        "def incremental_learning_wandb(model, train_dataset, train_target, test_dataset, test_target,\n",
        "                         num_tasks, classes_per_task, batch_size, num_epochs, lr, device, non_incremental = False):\n",
        "    nclasses = len(np.unique(train_target))\n",
        "    all_classes = list(range(nclasses))\n",
        "    criterion = nn.CrossEntropyLoss()\n",
        "    current_classes = []\n",
        "    accuracies = []\n",
        "\n",
        "    # Copy your config\n",
        "    config = wandb.config\n",
        "\n",
        "    wandb.define_metric(\"task\")\n",
        "    wandb.define_metric(\"incremental_accuracy\", step_metric=\"task\")\n",
        "\n",
        "    for task in range(num_tasks):\n",
        "        if non_incremental == True: # Learn from all available data\n",
        "          task_classes = all_classes[0 : (task + 1) * classes_per_task]\n",
        "          current_classes = task_classes\n",
        "          model.apply(initialize_weights)\n",
        "        else:\n",
        "          task_classes = all_classes[task * classes_per_task : (task + 1) * classes_per_task]\n",
        "          current_classes.extend(task_classes)\n",
        "\n",
        "        train_loader = create_dataloader(train_dataset, train_target, task_classes, batch_size, shuffle = True)\n",
        "        test_loader = create_dataloader(test_dataset, test_target, current_classes, batch_size, shuffle = False)\n",
        "\n",
        "        if task == 0 or non_incremental == True:\n",
        "            model.fc = nn.Linear(model.fc.in_features, len(current_classes)).to(device)\n",
        "        else:\n",
        "            # Expand the output layer for new classes\n",
        "            old_weight = model.fc.weight.data\n",
        "            old_bias = model.fc.bias.data\n",
        "            model.fc = nn.Linear(model.fc.in_features, len(current_classes)).to(device)\n",
        "            model.fc.weight.data[:len(old_weight)] = old_weight\n",
        "            model.fc.bias.data[:len(old_bias)] = old_bias\n",
        "\n",
        "        optimizer = optim.SGD(model.parameters(), lr=lr, momentum=0.9, weight_decay=5e-4)\n",
        "        optimizer = torch.optim.Adam(model.parameters(), lr=lr)\n",
        "        scheduler = lr_scheduler.StepLR(optimizer, step_size=5, gamma=0.5)\n",
        "\n",
        "        print(f\"Starting Task {task+1} - Training on classes: {task_classes}\")\n",
        "        for epoch in range(num_epochs): # Adjust number of epochs\n",
        "            #train(model, train_loader, optimizer, criterion, device, epoch)\n",
        "\n",
        "            # If logging training (but not incremental)\n",
        "            train_wandb(model, train_loader, optimizer, criterion, device, epoch)\n",
        "\n",
        "            scheduler.step()\n",
        "            accuracy = evaluate(model, train_loader, device)\n",
        "            print(f\"Task {task+1}, Epoch {epoch+1}: Accuracy Train = {accuracy:.2f}%\")\n",
        "\n",
        "            val_metrics = {\"val/val_accuracy\": accuracy}\n",
        "            #wandb.log({**val_metrics})\n",
        "\n",
        "        accuracy = evaluate(model, test_loader, device)\n",
        "        accuracies.append(accuracy)\n",
        "        print(f\"Task {task+1}: Accuracy Test = {accuracy:.2f}%\")\n",
        "\n",
        "        incremental_metrics = {\"incremental_accuracy\": accuracy, \"task\": task}\n",
        "        wandb.log({**incremental_metrics})\n",
        "\n",
        "        # Log train and validation metrics to wandb\n",
        "\n",
        "    return accuracies\n",
        "\n"
      ]
    },
    {
      "cell_type": "markdown",
      "source": [
        "## Pre-Training"
      ],
      "metadata": {
        "id": "bAaNngOPM0Sq"
      }
    },
    {
      "cell_type": "code",
      "source": [
        "# Hyperparameters\n",
        "root_dir = './data'  # Path to GTSRB dataset\n",
        "num_tasks = 5\n",
        "numclasses = len(np.unique(train_target))\n",
        "classes_per_task = numclasses // num_tasks #43/2 ~ 20\n",
        "batch_size = 64\n",
        "lr = 1e-3\n",
        "device = torch.device(\"cuda\" if torch.cuda.is_available() else \"cpu\")\n",
        "\n",
        "buffer_size = 200 # Adjust rehearsal set size\n",
        "alignment_strength = 0.1 # Adjust alignment strength\n",
        "num_epochs = 4\n",
        "\n",
        "#model = SimpleCNN(n_out = 1, n_in = 3).to(device)\n",
        "#model.apply(initialize_weights)\n",
        "\n",
        "# The name of the network (choose the on you want)\n",
        "tag = \"simpleCNN_GTSRB_pretrained\"\n",
        "netname = os.path.join(root_dir, 'network_{:s}.pth'.format(tag))\n",
        "\n",
        "#################################################\n",
        "## Pre-training\n",
        "####\n",
        "\n",
        "# Read the last learned network (if stored)\n",
        "if (os.path.exists(netname)):\n",
        "    print('Load pre-trained network')\n",
        "    model = SimpleCNN(n_in = 3, n_out=classes_per_task)\n",
        "    model.load_state_dict(torch.load(netname,weights_only=True))\n",
        "\n",
        "    #model = torch.load(netname, weights_only=True)\n",
        "    model = model.to(device)\n",
        "else:\n",
        "    print('Pretrain')\n",
        "    model = SimpleCNN(n_in = 3, n_out=1)\n",
        "    model.apply(initialize_weights)\n",
        "    model.to(device)\n",
        "\n",
        "    accu = incremental_learning(model, train_dataset, train_target, test_dataset, test_target,\n",
        "                        1, classes_per_task, batch_size, num_epochs, lr, device)\n",
        "\n",
        "    print(f\"!!!!! Pre-training on first task  = {accu[0]:.2f}%\")\n",
        "\n",
        "    # Save last learned model\n",
        "    #torch.save(model, netname)\n",
        "    torch.save(model.state_dict(), netname)\n",
        "\n",
        "## Copy model to have the same initialization\n",
        "copy_model = copy.deepcopy(model) # Copy model to start from the same initialization\n",
        "\n",
        "#### Learn with a single epoch in incremental (faster but less accurate)\n",
        "num_epochs = 1\n"
      ],
      "metadata": {
        "colab": {
          "base_uri": "https://localhost:8080/"
        },
        "id": "VgJ8qN2tNDLh",
        "outputId": "887c8ee1-a927-4c7e-f5a1-9ccc8edeb8e5"
      },
      "execution_count": 13,
      "outputs": [
        {
          "output_type": "stream",
          "name": "stdout",
          "text": [
            "Load pre-trained network\n"
          ]
        }
      ]
    },
    {
      "cell_type": "markdown",
      "source": [
        "## Fine tuning"
      ],
      "metadata": {
        "id": "93lWmMn2Nnnw"
      }
    },
    {
      "cell_type": "code",
      "source": [
        "#############################################\n",
        "## Fine tuning\n",
        "####\n",
        "# initialise a wandb run\n",
        "run = wandb.init(\n",
        "    project=\"GTSRB-CIL\",\n",
        "    name = \"Fine tuning\",\n",
        "    config={\n",
        "        \"epochs\": num_epochs,\n",
        "        \"batch_size\": batch_size,\n",
        "        \"num_tasks\": num_tasks,\n",
        "        \"classes_per_task\": classes_per_task,\n",
        "        \"lr\": lr,\n",
        "        })\n",
        "\n",
        "# Simple Incremental Fine Tuning\n",
        "model = copy.deepcopy(copy_model)\n",
        "incremental_learning_wandb(model, train_dataset, train_target, test_dataset, test_target,\n",
        "                      num_tasks, classes_per_task, batch_size, num_epochs, lr, device)\n",
        "wandb.finish()\n"
      ],
      "metadata": {
        "id": "Tla2raJ7Nn_o",
        "colab": {
          "base_uri": "https://localhost:8080/",
          "height": 1000
        },
        "outputId": "3ea63fd4-fcfd-45c9-a890-c21f998cb5f4"
      },
      "execution_count": null,
      "outputs": [
        {
          "output_type": "stream",
          "name": "stderr",
          "text": [
            "\u001b[34m\u001b[1mwandb\u001b[0m: Using wandb-core as the SDK backend.  Please refer to https://wandb.me/wandb-core for more information.\n"
          ]
        },
        {
          "output_type": "display_data",
          "data": {
            "text/plain": [
              "<IPython.core.display.HTML object>"
            ],
            "text/html": [
              "Tracking run with wandb version 0.19.5"
            ]
          },
          "metadata": {}
        },
        {
          "output_type": "display_data",
          "data": {
            "text/plain": [
              "<IPython.core.display.HTML object>"
            ],
            "text/html": [
              "Run data is saved locally in <code>/content/wandb/run-20250130_082612-6ga1w5ra</code>"
            ]
          },
          "metadata": {}
        },
        {
          "output_type": "display_data",
          "data": {
            "text/plain": [
              "<IPython.core.display.HTML object>"
            ],
            "text/html": [
              "Syncing run <strong><a href='https://wandb.ai/rodrigozuiani-ensta-paris/GTSRB-CIL/runs/6ga1w5ra' target=\"_blank\">Fine tuning</a></strong> to <a href='https://wandb.ai/rodrigozuiani-ensta-paris/GTSRB-CIL' target=\"_blank\">Weights & Biases</a> (<a href='https://wandb.me/developer-guide' target=\"_blank\">docs</a>)<br>"
            ]
          },
          "metadata": {}
        },
        {
          "output_type": "display_data",
          "data": {
            "text/plain": [
              "<IPython.core.display.HTML object>"
            ],
            "text/html": [
              " View project at <a href='https://wandb.ai/rodrigozuiani-ensta-paris/GTSRB-CIL' target=\"_blank\">https://wandb.ai/rodrigozuiani-ensta-paris/GTSRB-CIL</a>"
            ]
          },
          "metadata": {}
        },
        {
          "output_type": "display_data",
          "data": {
            "text/plain": [
              "<IPython.core.display.HTML object>"
            ],
            "text/html": [
              " View run at <a href='https://wandb.ai/rodrigozuiani-ensta-paris/GTSRB-CIL/runs/6ga1w5ra' target=\"_blank\">https://wandb.ai/rodrigozuiani-ensta-paris/GTSRB-CIL/runs/6ga1w5ra</a>"
            ]
          },
          "metadata": {}
        },
        {
          "output_type": "stream",
          "name": "stdout",
          "text": [
            "Starting Task 1 - Training on classes: [0, 1, 2, 3, 4, 5, 6, 7]\n"
          ]
        },
        {
          "output_type": "stream",
          "name": "stderr",
          "text": [
            "Epoch 0: 125it [00:27,  4.60it/s]\n",
            "100%|█████████████████████████████████████████| 125/125 [00:12<00:00,  9.74it/s]\n"
          ]
        },
        {
          "output_type": "stream",
          "name": "stdout",
          "text": [
            "Task 1, Epoch 1: Accuracy Train = 97.27%\n"
          ]
        },
        {
          "output_type": "stream",
          "name": "stderr",
          "text": [
            "100%|███████████████████████████████████████████| 61/61 [00:05<00:00, 11.24it/s]\n"
          ]
        },
        {
          "output_type": "stream",
          "name": "stdout",
          "text": [
            "Task 1: Accuracy Test = 88.68%\n",
            "Starting Task 2 - Training on classes: [8, 9, 10, 11, 12, 13, 14, 15]\n"
          ]
        },
        {
          "output_type": "stream",
          "name": "stderr",
          "text": [
            "Epoch 0: 126it [00:23,  5.43it/s]\n",
            "100%|█████████████████████████████████████████| 126/126 [00:11<00:00, 10.59it/s]\n"
          ]
        },
        {
          "output_type": "stream",
          "name": "stdout",
          "text": [
            "Task 2, Epoch 1: Accuracy Train = 99.06%\n"
          ]
        },
        {
          "output_type": "stream",
          "name": "stderr",
          "text": [
            "100%|█████████████████████████████████████████| 122/122 [00:11<00:00, 10.21it/s]\n"
          ]
        },
        {
          "output_type": "stream",
          "name": "stdout",
          "text": [
            "Task 2: Accuracy Test = 47.98%\n",
            "Starting Task 3 - Training on classes: [16, 17, 18, 19, 20, 21, 22, 23]\n"
          ]
        },
        {
          "output_type": "stream",
          "name": "stderr",
          "text": [
            "Epoch 0: 49it [00:09,  5.14it/s]\n",
            "100%|███████████████████████████████████████████| 49/49 [00:04<00:00, 11.07it/s]\n"
          ]
        },
        {
          "output_type": "stream",
          "name": "stdout",
          "text": [
            "Task 3, Epoch 1: Accuracy Train = 97.47%\n"
          ]
        },
        {
          "output_type": "stream",
          "name": "stderr",
          "text": [
            "100%|█████████████████████████████████████████| 144/144 [00:15<00:00,  9.14it/s]\n"
          ]
        },
        {
          "output_type": "stream",
          "name": "stdout",
          "text": [
            "Task 3: Accuracy Test = 12.94%\n",
            "Starting Task 4 - Training on classes: [24, 25, 26, 27, 28, 29, 30, 31]\n"
          ]
        },
        {
          "output_type": "stream",
          "name": "stderr",
          "text": [
            "Epoch 0: 50it [00:09,  5.13it/s]\n",
            "100%|███████████████████████████████████████████| 50/50 [00:04<00:00, 11.09it/s]\n"
          ]
        },
        {
          "output_type": "stream",
          "name": "stdout",
          "text": [
            "Task 4, Epoch 1: Accuracy Train = 89.37%\n"
          ]
        },
        {
          "output_type": "stream",
          "name": "stderr",
          "text": [
            "100%|█████████████████████████████████████████| 167/167 [00:16<00:00,  9.98it/s]\n"
          ]
        },
        {
          "output_type": "stream",
          "name": "stdout",
          "text": [
            "Task 4: Accuracy Test = 9.93%\n",
            "Starting Task 5 - Training on classes: [32, 33, 34, 35, 36, 37, 38, 39]\n"
          ]
        },
        {
          "output_type": "stream",
          "name": "stderr",
          "text": [
            "Epoch 0: 60it [00:11,  5.25it/s]\n",
            "100%|███████████████████████████████████████████| 60/60 [00:05<00:00, 11.26it/s]\n"
          ]
        },
        {
          "output_type": "stream",
          "name": "stdout",
          "text": [
            "Task 5, Epoch 1: Accuracy Train = 98.15%\n"
          ]
        },
        {
          "output_type": "stream",
          "name": "stderr",
          "text": [
            "100%|█████████████████████████████████████████| 194/194 [00:19<00:00,  9.96it/s]"
          ]
        },
        {
          "output_type": "stream",
          "name": "stdout",
          "text": [
            "Task 5: Accuracy Test = 12.42%\n"
          ]
        },
        {
          "output_type": "stream",
          "name": "stderr",
          "text": [
            "\n"
          ]
        },
        {
          "output_type": "display_data",
          "data": {
            "text/plain": [
              "<IPython.core.display.HTML object>"
            ],
            "text/html": []
          },
          "metadata": {}
        },
        {
          "output_type": "display_data",
          "data": {
            "text/plain": [
              "<IPython.core.display.HTML object>"
            ],
            "text/html": [
              "<br>    <style><br>        .wandb-row {<br>            display: flex;<br>            flex-direction: row;<br>            flex-wrap: wrap;<br>            justify-content: flex-start;<br>            width: 100%;<br>        }<br>        .wandb-col {<br>            display: flex;<br>            flex-direction: column;<br>            flex-basis: 100%;<br>            flex: 1;<br>            padding: 10px;<br>        }<br>    </style><br><div class=\"wandb-row\"><div class=\"wandb-col\"><h3>Run history:</h3><br/><table class=\"wandb\"><tr><td>incremental_accuracy</td><td>█▄▁▁▁</td></tr><tr><td>task</td><td>▁▃▅▆█</td></tr><tr><td>train/train_loss</td><td>▃▃▁▁▁▁▁▁▁▁▁▁▃▂▁▁▁▁▁▁▁▁▁▁█▂▁▁▁▇▂▂▂▃▃▁▁▁▁▁</td></tr></table><br/></div><div class=\"wandb-col\"><h3>Run summary:</h3><br/><table class=\"wandb\"><tr><td>incremental_accuracy</td><td>12.42131</td></tr><tr><td>task</td><td>4</td></tr><tr><td>train/train_loss</td><td>0.1244</td></tr></table><br/></div></div>"
            ]
          },
          "metadata": {}
        },
        {
          "output_type": "display_data",
          "data": {
            "text/plain": [
              "<IPython.core.display.HTML object>"
            ],
            "text/html": [
              " View run <strong style=\"color:#cdcd00\">Fine tuning</strong> at: <a href='https://wandb.ai/rodrigozuiani-ensta-paris/GTSRB-CIL/runs/6ga1w5ra' target=\"_blank\">https://wandb.ai/rodrigozuiani-ensta-paris/GTSRB-CIL/runs/6ga1w5ra</a><br> View project at: <a href='https://wandb.ai/rodrigozuiani-ensta-paris/GTSRB-CIL' target=\"_blank\">https://wandb.ai/rodrigozuiani-ensta-paris/GTSRB-CIL</a><br>Synced 5 W&B file(s), 0 media file(s), 0 artifact file(s) and 0 other file(s)"
            ]
          },
          "metadata": {}
        },
        {
          "output_type": "display_data",
          "data": {
            "text/plain": [
              "<IPython.core.display.HTML object>"
            ],
            "text/html": [
              "Find logs at: <code>./wandb/run-20250130_082612-6ga1w5ra/logs</code>"
            ]
          },
          "metadata": {}
        }
      ]
    },
    {
      "cell_type": "markdown",
      "source": [
        "## Upper bound"
      ],
      "metadata": {
        "id": "TfV4H_gQlJOg"
      }
    },
    {
      "cell_type": "code",
      "source": [
        "#################################################\n",
        "## Global upper bound (all data, all classes)\n",
        "####\n",
        "\n",
        "# One task + all classes computed using 5 epochs\n",
        "\n",
        "model = copy.deepcopy(copy_model)\n",
        "accu = incremental_learning(model, train_dataset, train_target, test_dataset, test_target,\n",
        "                      1, (numclasses // num_tasks) * num_tasks, batch_size, 5, lr, device)\n",
        "\n",
        "print(f\"!!!!! Upper bound of accuracy = {accu[0]:.2f}%\")\n"
      ],
      "metadata": {
        "id": "xs4duQSA3LY8",
        "colab": {
          "base_uri": "https://localhost:8080/"
        },
        "outputId": "1ad353f9-5819-4420-deb2-bc814b938966"
      },
      "execution_count": null,
      "outputs": [
        {
          "output_type": "stream",
          "name": "stdout",
          "text": [
            "Starting Task 1 - Training on classes: [0, 1, 2, 3, 4, 5, 6, 7, 8, 9, 10, 11, 12, 13, 14, 15, 16, 17, 18, 19, 20, 21, 22, 23, 24, 25, 26, 27, 28, 29, 30, 31, 32, 33, 34, 35, 36, 37, 38, 39]\n"
          ]
        },
        {
          "output_type": "stream",
          "name": "stderr",
          "text": [
            "Epoch 0: 100%|████████████████████████████████| 407/407 [01:12<00:00,  5.62it/s]\n",
            "100%|█████████████████████████████████████████| 407/407 [00:41<00:00,  9.89it/s]\n"
          ]
        },
        {
          "output_type": "stream",
          "name": "stdout",
          "text": [
            "Task 1, Epoch 1: Accuracy Train = 98.52%\n"
          ]
        },
        {
          "output_type": "stream",
          "name": "stderr",
          "text": [
            "Epoch 1: 100%|████████████████████████████████| 407/407 [01:10<00:00,  5.79it/s]\n",
            "100%|█████████████████████████████████████████| 407/407 [00:40<00:00, 10.05it/s]\n"
          ]
        },
        {
          "output_type": "stream",
          "name": "stdout",
          "text": [
            "Task 1, Epoch 2: Accuracy Train = 99.21%\n"
          ]
        },
        {
          "output_type": "stream",
          "name": "stderr",
          "text": [
            "Epoch 2: 100%|████████████████████████████████| 407/407 [01:11<00:00,  5.70it/s]\n",
            "100%|█████████████████████████████████████████| 407/407 [00:41<00:00,  9.76it/s]\n"
          ]
        },
        {
          "output_type": "stream",
          "name": "stdout",
          "text": [
            "Task 1, Epoch 3: Accuracy Train = 99.70%\n"
          ]
        },
        {
          "output_type": "stream",
          "name": "stderr",
          "text": [
            "Epoch 3: 100%|████████████████████████████████| 407/407 [01:10<00:00,  5.76it/s]\n",
            "100%|█████████████████████████████████████████| 407/407 [00:39<00:00, 10.28it/s]\n"
          ]
        },
        {
          "output_type": "stream",
          "name": "stdout",
          "text": [
            "Task 1, Epoch 4: Accuracy Train = 99.60%\n"
          ]
        },
        {
          "output_type": "stream",
          "name": "stderr",
          "text": [
            "Epoch 4: 100%|████████████████████████████████| 407/407 [01:10<00:00,  5.74it/s]\n",
            "100%|█████████████████████████████████████████| 407/407 [00:40<00:00, 10.09it/s]\n"
          ]
        },
        {
          "output_type": "stream",
          "name": "stdout",
          "text": [
            "Task 1, Epoch 5: Accuracy Train = 99.78%\n"
          ]
        },
        {
          "output_type": "stream",
          "name": "stderr",
          "text": [
            "100%|█████████████████████████████████████████| 194/194 [00:21<00:00,  9.02it/s]"
          ]
        },
        {
          "output_type": "stream",
          "name": "stdout",
          "text": [
            "Task 1: Accuracy Test = 90.40%\n",
            "!!!!! Upper bound of accuracy = 90.40%\n"
          ]
        },
        {
          "output_type": "stream",
          "name": "stderr",
          "text": [
            "\n"
          ]
        }
      ]
    },
    {
      "cell_type": "code",
      "source": [
        "########################################\n",
        "## Upper bound for each task (takes some time)\n",
        "####\n",
        "# initialise a wandb run\n",
        "run = wandb.init(\n",
        "    project=\"GTSRB-CIL\",\n",
        "    name = \"Upper bound\",\n",
        "    config={\n",
        "        \"epochs\": num_epochs,\n",
        "        \"batch_size\": batch_size,\n",
        "        \"num_tasks\": num_tasks,\n",
        "        \"classes_per_task\": classes_per_task,\n",
        "        \"lr\": lr,\n",
        "        })\n",
        "\n",
        "# Non incremental data (learn all classes from all data for each task)\n",
        "model = copy.deepcopy(copy_model)\n",
        "incremental_learning_wandb(model, train_dataset, train_target, test_dataset, test_target,\n",
        "                      num_tasks, classes_per_task, batch_size, num_epochs, lr, device, non_incremental = True)\n",
        "\n",
        "wandb.finish()"
      ],
      "metadata": {
        "id": "TQONaVy3MYRa",
        "colab": {
          "base_uri": "https://localhost:8080/",
          "height": 1000
        },
        "outputId": "44db1643-d598-4b5a-83bf-2dbb6ce2af3b"
      },
      "execution_count": null,
      "outputs": [
        {
          "output_type": "display_data",
          "data": {
            "text/plain": [
              "<IPython.core.display.HTML object>"
            ],
            "text/html": [
              "Tracking run with wandb version 0.19.5"
            ]
          },
          "metadata": {}
        },
        {
          "output_type": "display_data",
          "data": {
            "text/plain": [
              "<IPython.core.display.HTML object>"
            ],
            "text/html": [
              "Run data is saved locally in <code>/content/wandb/run-20250130_084113-o442dk5i</code>"
            ]
          },
          "metadata": {}
        },
        {
          "output_type": "display_data",
          "data": {
            "text/plain": [
              "<IPython.core.display.HTML object>"
            ],
            "text/html": [
              "Syncing run <strong><a href='https://wandb.ai/rodrigozuiani-ensta-paris/GTSRB-CIL/runs/o442dk5i' target=\"_blank\">Upper bound</a></strong> to <a href='https://wandb.ai/rodrigozuiani-ensta-paris/GTSRB-CIL' target=\"_blank\">Weights & Biases</a> (<a href='https://wandb.me/developer-guide' target=\"_blank\">docs</a>)<br>"
            ]
          },
          "metadata": {}
        },
        {
          "output_type": "display_data",
          "data": {
            "text/plain": [
              "<IPython.core.display.HTML object>"
            ],
            "text/html": [
              " View project at <a href='https://wandb.ai/rodrigozuiani-ensta-paris/GTSRB-CIL' target=\"_blank\">https://wandb.ai/rodrigozuiani-ensta-paris/GTSRB-CIL</a>"
            ]
          },
          "metadata": {}
        },
        {
          "output_type": "display_data",
          "data": {
            "text/plain": [
              "<IPython.core.display.HTML object>"
            ],
            "text/html": [
              " View run at <a href='https://wandb.ai/rodrigozuiani-ensta-paris/GTSRB-CIL/runs/o442dk5i' target=\"_blank\">https://wandb.ai/rodrigozuiani-ensta-paris/GTSRB-CIL/runs/o442dk5i</a>"
            ]
          },
          "metadata": {}
        },
        {
          "output_type": "stream",
          "name": "stdout",
          "text": [
            "Starting Task 1 - Training on classes: [0, 1, 2, 3, 4, 5, 6, 7]\n"
          ]
        },
        {
          "output_type": "stream",
          "name": "stderr",
          "text": [
            "Epoch 0: 125it [00:21,  5.93it/s]\n",
            "100%|█████████████████████████████████████████| 125/125 [00:12<00:00,  9.76it/s]\n"
          ]
        },
        {
          "output_type": "stream",
          "name": "stdout",
          "text": [
            "Task 1, Epoch 1: Accuracy Train = 64.34%\n"
          ]
        },
        {
          "output_type": "stream",
          "name": "stderr",
          "text": [
            "100%|███████████████████████████████████████████| 61/61 [00:05<00:00, 11.30it/s]\n"
          ]
        },
        {
          "output_type": "stream",
          "name": "stdout",
          "text": [
            "Task 1: Accuracy Test = 45.63%\n",
            "Starting Task 2 - Training on classes: [0, 1, 2, 3, 4, 5, 6, 7, 8, 9, 10, 11, 12, 13, 14, 15]\n"
          ]
        },
        {
          "output_type": "stream",
          "name": "stderr",
          "text": [
            "Epoch 0: 250it [00:42,  5.83it/s]\n",
            "100%|█████████████████████████████████████████| 250/250 [00:24<00:00, 10.36it/s]\n"
          ]
        },
        {
          "output_type": "stream",
          "name": "stdout",
          "text": [
            "Task 2, Epoch 1: Accuracy Train = 91.32%\n"
          ]
        },
        {
          "output_type": "stream",
          "name": "stderr",
          "text": [
            "100%|█████████████████████████████████████████| 122/122 [00:12<00:00,  9.81it/s]\n"
          ]
        },
        {
          "output_type": "stream",
          "name": "stdout",
          "text": [
            "Task 2: Accuracy Test = 81.17%\n",
            "Starting Task 3 - Training on classes: [0, 1, 2, 3, 4, 5, 6, 7, 8, 9, 10, 11, 12, 13, 14, 15, 16, 17, 18, 19, 20, 21, 22, 23]\n"
          ]
        },
        {
          "output_type": "stream",
          "name": "stderr",
          "text": [
            "Epoch 0: 299it [00:50,  5.91it/s]\n",
            "100%|█████████████████████████████████████████| 299/299 [00:30<00:00,  9.92it/s]\n"
          ]
        },
        {
          "output_type": "stream",
          "name": "stdout",
          "text": [
            "Task 3, Epoch 1: Accuracy Train = 91.28%\n"
          ]
        },
        {
          "output_type": "stream",
          "name": "stderr",
          "text": [
            "100%|█████████████████████████████████████████| 144/144 [00:14<00:00,  9.89it/s]\n"
          ]
        },
        {
          "output_type": "stream",
          "name": "stdout",
          "text": [
            "Task 3: Accuracy Test = 81.57%\n",
            "Starting Task 4 - Training on classes: [0, 1, 2, 3, 4, 5, 6, 7, 8, 9, 10, 11, 12, 13, 14, 15, 16, 17, 18, 19, 20, 21, 22, 23, 24, 25, 26, 27, 28, 29, 30, 31]\n"
          ]
        },
        {
          "output_type": "stream",
          "name": "stderr",
          "text": [
            "Epoch 0: 348it [01:01,  5.66it/s]\n",
            "100%|█████████████████████████████████████████| 348/348 [00:35<00:00,  9.92it/s]\n"
          ]
        },
        {
          "output_type": "stream",
          "name": "stdout",
          "text": [
            "Task 4, Epoch 1: Accuracy Train = 93.76%\n"
          ]
        },
        {
          "output_type": "stream",
          "name": "stderr",
          "text": [
            "100%|█████████████████████████████████████████| 167/167 [00:17<00:00,  9.43it/s]\n"
          ]
        },
        {
          "output_type": "stream",
          "name": "stdout",
          "text": [
            "Task 4: Accuracy Test = 80.03%\n",
            "Starting Task 5 - Training on classes: [0, 1, 2, 3, 4, 5, 6, 7, 8, 9, 10, 11, 12, 13, 14, 15, 16, 17, 18, 19, 20, 21, 22, 23, 24, 25, 26, 27, 28, 29, 30, 31, 32, 33, 34, 35, 36, 37, 38, 39]\n"
          ]
        },
        {
          "output_type": "stream",
          "name": "stderr",
          "text": [
            "Epoch 0: 407it [01:18,  5.18it/s]\n",
            "100%|█████████████████████████████████████████| 407/407 [00:41<00:00,  9.82it/s]\n"
          ]
        },
        {
          "output_type": "stream",
          "name": "stdout",
          "text": [
            "Task 5, Epoch 1: Accuracy Train = 95.65%\n"
          ]
        },
        {
          "output_type": "stream",
          "name": "stderr",
          "text": [
            "100%|█████████████████████████████████████████| 194/194 [00:19<00:00, 10.07it/s]"
          ]
        },
        {
          "output_type": "stream",
          "name": "stdout",
          "text": [
            "Task 5: Accuracy Test = 82.72%\n"
          ]
        },
        {
          "output_type": "stream",
          "name": "stderr",
          "text": [
            "\n"
          ]
        },
        {
          "output_type": "display_data",
          "data": {
            "text/plain": [
              "<IPython.core.display.HTML object>"
            ],
            "text/html": []
          },
          "metadata": {}
        },
        {
          "output_type": "display_data",
          "data": {
            "text/plain": [
              "<IPython.core.display.HTML object>"
            ],
            "text/html": [
              "<br>    <style><br>        .wandb-row {<br>            display: flex;<br>            flex-direction: row;<br>            flex-wrap: wrap;<br>            justify-content: flex-start;<br>            width: 100%;<br>        }<br>        .wandb-col {<br>            display: flex;<br>            flex-direction: column;<br>            flex-basis: 100%;<br>            flex: 1;<br>            padding: 10px;<br>        }<br>    </style><br><div class=\"wandb-row\"><div class=\"wandb-col\"><h3>Run history:</h3><br/><table class=\"wandb\"><tr><td>incremental_accuracy</td><td>▁██▇█</td></tr><tr><td>task</td><td>▁▃▅▆█</td></tr><tr><td>train/train_loss</td><td>▅▄▄▅▃▂▂▂▁▇▂▁▂▁▁█▆▅▄▃▂▂▁▁▁██▇▇▄▄▃▃▂▁▁▁▁▁▁</td></tr></table><br/></div><div class=\"wandb-col\"><h3>Run summary:</h3><br/><table class=\"wandb\"><tr><td>incremental_accuracy</td><td>82.71994</td></tr><tr><td>task</td><td>4</td></tr><tr><td>train/train_loss</td><td>0.25941</td></tr></table><br/></div></div>"
            ]
          },
          "metadata": {}
        },
        {
          "output_type": "display_data",
          "data": {
            "text/plain": [
              "<IPython.core.display.HTML object>"
            ],
            "text/html": [
              " View run <strong style=\"color:#cdcd00\">Upper bound</strong> at: <a href='https://wandb.ai/rodrigozuiani-ensta-paris/GTSRB-CIL/runs/o442dk5i' target=\"_blank\">https://wandb.ai/rodrigozuiani-ensta-paris/GTSRB-CIL/runs/o442dk5i</a><br> View project at: <a href='https://wandb.ai/rodrigozuiani-ensta-paris/GTSRB-CIL' target=\"_blank\">https://wandb.ai/rodrigozuiani-ensta-paris/GTSRB-CIL</a><br>Synced 5 W&B file(s), 0 media file(s), 0 artifact file(s) and 0 other file(s)"
            ]
          },
          "metadata": {}
        },
        {
          "output_type": "display_data",
          "data": {
            "text/plain": [
              "<IPython.core.display.HTML object>"
            ],
            "text/html": [
              "Find logs at: <code>./wandb/run-20250130_084113-o442dk5i/logs</code>"
            ]
          },
          "metadata": {}
        }
      ]
    },
    {
      "cell_type": "markdown",
      "source": [
        "## Avoiding Forgetting"
      ],
      "metadata": {
        "id": "MvpeQkIBuVo6"
      }
    },
    {
      "cell_type": "markdown",
      "source": [
        "### Rehearsal + KD"
      ],
      "metadata": {
        "id": "7DwuSODjsz7S"
      }
    },
    {
      "cell_type": "code",
      "source": [
        "!pip install continuum"
      ],
      "metadata": {
        "id": "dID4pz0niTV9"
      },
      "execution_count": null,
      "outputs": []
    },
    {
      "cell_type": "code",
      "source": [
        "from continuum import ClassIncremental, rehearsal\n",
        "from continuum.datasets import GTSRB\n",
        "\n",
        "scenario = ClassIncremental(\n",
        "    GTSRB(data_path=root_dir, download=True, train=True),\n",
        "    increment=8\n",
        ")\n",
        "\n",
        "memory = rehearsal.RehearsalMemory(\n",
        "    memory_size=2000,\n",
        "    herding_method=\"barycenter\"\n",
        ")\n",
        "\n",
        "\n",
        "# Rehearsal memory buffer\n",
        "# class MemoryBuffer:\n",
        "#     def __init__(self, size):\n",
        "#         self.size = size\n",
        "#         self.memory = collections.defaultdict(list)  # Store samples per class\n",
        "\n",
        "#     def add_samples(self, images, labels):\n",
        "#         for img, lbl in zip(images, labels):\n",
        "#             lbl = lbl.item()  # Convert tensor to int\n",
        "\n",
        "#             # Keep buffer balanced by limiting samples per class\n",
        "#             if len(self.memory[lbl]) > self.size // len(self.memory):\n",
        "#                 self.memory[lbl].pop(random.randint(0, len(self.memory[lbl]) - 1))  # Random removal\n",
        "\n",
        "#             self.memory[lbl].append(img)\n",
        "\n",
        "#     def get_samples(self, num_samples):\n",
        "#         samples = []\n",
        "#         classes = list(self.memory.keys())\n",
        "\n",
        "#         while len(samples) < num_samples:\n",
        "#             cls = random.choice(classes)\n",
        "#             if self.memory[cls]:  # Ensure class has data\n",
        "#                 samples.append((self.memory[cls].pop(0), cls))  # Pop oldest sample\n",
        "\n",
        "#         return samples"
      ],
      "metadata": {
        "id": "7wQekjIv1J2P",
        "colab": {
          "base_uri": "https://localhost:8080/",
          "height": 477
        },
        "outputId": "0533e3c6-5212-4d96-eaae-6bc0f09621fc"
      },
      "execution_count": 43,
      "outputs": [
        {
          "output_type": "stream",
          "name": "stdout",
          "text": [
            "Done!\n",
            "Extracting archive... Done!\n",
            "Done!\n",
            "Extracting archive... Done!\n",
            "Done!\n",
            "Extracting archive... Done!\n"
          ]
        },
        {
          "output_type": "error",
          "ename": "Exception",
          "evalue": "The tasks won't have an equal number of classes with 43 and increment 8",
          "traceback": [
            "\u001b[0;31m---------------------------------------------------------------------------\u001b[0m",
            "\u001b[0;31mException\u001b[0m                                 Traceback (most recent call last)",
            "\u001b[0;32m<ipython-input-43-acbdc4ba521d>\u001b[0m in \u001b[0;36m<cell line: 0>\u001b[0;34m()\u001b[0m\n\u001b[1;32m      2\u001b[0m \u001b[0;32mfrom\u001b[0m \u001b[0mcontinuum\u001b[0m\u001b[0;34m.\u001b[0m\u001b[0mdatasets\u001b[0m \u001b[0;32mimport\u001b[0m \u001b[0mGTSRB\u001b[0m\u001b[0;34m\u001b[0m\u001b[0;34m\u001b[0m\u001b[0m\n\u001b[1;32m      3\u001b[0m \u001b[0;34m\u001b[0m\u001b[0m\n\u001b[0;32m----> 4\u001b[0;31m scenario = ClassIncremental(\n\u001b[0m\u001b[1;32m      5\u001b[0m     \u001b[0mGTSRB\u001b[0m\u001b[0;34m(\u001b[0m\u001b[0mdata_path\u001b[0m\u001b[0;34m=\u001b[0m\u001b[0mroot_dir\u001b[0m\u001b[0;34m,\u001b[0m \u001b[0mdownload\u001b[0m\u001b[0;34m=\u001b[0m\u001b[0;32mTrue\u001b[0m\u001b[0;34m,\u001b[0m \u001b[0mtrain\u001b[0m\u001b[0;34m=\u001b[0m\u001b[0;32mTrue\u001b[0m\u001b[0;34m)\u001b[0m\u001b[0;34m,\u001b[0m\u001b[0;34m\u001b[0m\u001b[0;34m\u001b[0m\u001b[0m\n\u001b[1;32m      6\u001b[0m     \u001b[0mincrement\u001b[0m\u001b[0;34m=\u001b[0m\u001b[0;36m8\u001b[0m\u001b[0;34m\u001b[0m\u001b[0;34m\u001b[0m\u001b[0m\n",
            "\u001b[0;32m/usr/local/lib/python3.11/dist-packages/continuum/scenarios/class_incremental.py\u001b[0m in \u001b[0;36m__init__\u001b[0;34m(self, cl_dataset, nb_tasks, increment, initial_increment, transformations, class_order)\u001b[0m\n\u001b[1;32m     43\u001b[0m         \u001b[0mself\u001b[0m\u001b[0;34m.\u001b[0m\u001b[0mclass_order\u001b[0m \u001b[0;34m=\u001b[0m \u001b[0mclass_order\u001b[0m\u001b[0;34m\u001b[0m\u001b[0;34m\u001b[0m\u001b[0m\n\u001b[1;32m     44\u001b[0m \u001b[0;34m\u001b[0m\u001b[0m\n\u001b[0;32m---> 45\u001b[0;31m         \u001b[0mself\u001b[0m\u001b[0;34m.\u001b[0m\u001b[0m_nb_tasks\u001b[0m \u001b[0;34m=\u001b[0m \u001b[0mself\u001b[0m\u001b[0;34m.\u001b[0m\u001b[0m_setup\u001b[0m\u001b[0;34m(\u001b[0m\u001b[0mnb_tasks\u001b[0m\u001b[0;34m)\u001b[0m\u001b[0;34m\u001b[0m\u001b[0;34m\u001b[0m\u001b[0m\n\u001b[0m\u001b[1;32m     46\u001b[0m         \u001b[0msuper\u001b[0m\u001b[0;34m(\u001b[0m\u001b[0;34m)\u001b[0m\u001b[0;34m.\u001b[0m\u001b[0m__init__\u001b[0m\u001b[0;34m(\u001b[0m\u001b[0mcl_dataset\u001b[0m\u001b[0;34m=\u001b[0m\u001b[0mcl_dataset\u001b[0m\u001b[0;34m,\u001b[0m \u001b[0mnb_tasks\u001b[0m\u001b[0;34m=\u001b[0m\u001b[0mself\u001b[0m\u001b[0;34m.\u001b[0m\u001b[0m_nb_tasks\u001b[0m\u001b[0;34m,\u001b[0m \u001b[0mtransformations\u001b[0m\u001b[0;34m=\u001b[0m\u001b[0mtransformations\u001b[0m\u001b[0;34m)\u001b[0m\u001b[0;34m\u001b[0m\u001b[0;34m\u001b[0m\u001b[0m\n\u001b[1;32m     47\u001b[0m \u001b[0;34m\u001b[0m\u001b[0m\n",
            "\u001b[0;32m/usr/local/lib/python3.11/dist-packages/continuum/scenarios/class_incremental.py\u001b[0m in \u001b[0;36m_setup\u001b[0;34m(self, nb_tasks)\u001b[0m\n\u001b[1;32m     84\u001b[0m             \u001b[0;31m# The number of tasks is left unspecified, thus it will be determined\u001b[0m\u001b[0;34m\u001b[0m\u001b[0;34m\u001b[0m\u001b[0m\n\u001b[1;32m     85\u001b[0m             \u001b[0;31m# by the specified increments.\u001b[0m\u001b[0;34m\u001b[0m\u001b[0;34m\u001b[0m\u001b[0m\n\u001b[0;32m---> 86\u001b[0;31m             self.increments = self._define_increments(\n\u001b[0m\u001b[1;32m     87\u001b[0m                 \u001b[0mself\u001b[0m\u001b[0;34m.\u001b[0m\u001b[0mincrement\u001b[0m\u001b[0;34m,\u001b[0m \u001b[0mself\u001b[0m\u001b[0;34m.\u001b[0m\u001b[0minitial_increment\u001b[0m\u001b[0;34m,\u001b[0m \u001b[0munique_classes\u001b[0m\u001b[0;34m\u001b[0m\u001b[0;34m\u001b[0m\u001b[0m\n\u001b[1;32m     88\u001b[0m             )\n",
            "\u001b[0;32m/usr/local/lib/python3.11/dist-packages/continuum/scenarios/class_incremental.py\u001b[0m in \u001b[0;36m_define_increments\u001b[0;34m(self, increment, initial_increment, unique_classes)\u001b[0m\n\u001b[1;32m    153\u001b[0m             \u001b[0mnb_tasks\u001b[0m \u001b[0;34m=\u001b[0m \u001b[0;34m(\u001b[0m\u001b[0mlen\u001b[0m\u001b[0;34m(\u001b[0m\u001b[0munique_classes\u001b[0m\u001b[0;34m)\u001b[0m \u001b[0;34m-\u001b[0m \u001b[0minitial_increment\u001b[0m\u001b[0;34m)\u001b[0m \u001b[0;34m/\u001b[0m \u001b[0mincrement\u001b[0m\u001b[0;34m\u001b[0m\u001b[0;34m\u001b[0m\u001b[0m\n\u001b[1;32m    154\u001b[0m             \u001b[0;32mif\u001b[0m \u001b[0;32mnot\u001b[0m \u001b[0mnb_tasks\u001b[0m\u001b[0;34m.\u001b[0m\u001b[0mis_integer\u001b[0m\u001b[0;34m(\u001b[0m\u001b[0;34m)\u001b[0m\u001b[0;34m:\u001b[0m\u001b[0;34m\u001b[0m\u001b[0;34m\u001b[0m\u001b[0m\n\u001b[0;32m--> 155\u001b[0;31m                 raise Exception(\n\u001b[0m\u001b[1;32m    156\u001b[0m                     \u001b[0;34m\"The tasks won't have an equal number of classes\"\u001b[0m\u001b[0;34m\u001b[0m\u001b[0;34m\u001b[0m\u001b[0m\n\u001b[1;32m    157\u001b[0m                     \u001b[0;34mf\" with {len(self.class_order)} and increment {increment}\"\u001b[0m\u001b[0;34m\u001b[0m\u001b[0;34m\u001b[0m\u001b[0m\n",
            "\u001b[0;31mException\u001b[0m: The tasks won't have an equal number of classes with 43 and increment 8"
          ]
        }
      ]
    },
    {
      "cell_type": "code",
      "source": [
        "def distillation_loss(student_outputs, teacher_outputs, temperature=2.0):\n",
        "    # Ensure student logits only consider old class outputs\n",
        "    student_outputs = student_outputs[:, :teacher_outputs.shape[1]]\n",
        "\n",
        "    soft_targets = nn.functional.softmax(teacher_outputs / temperature, dim=1)\n",
        "    soft_preds = nn.functional.log_softmax(student_outputs / temperature, dim=1)\n",
        "\n",
        "    return nn.functional.kl_div(soft_preds, soft_targets, reduction='batchmean')"
      ],
      "metadata": {
        "id": "iQqVviBj1cev"
      },
      "execution_count": 24,
      "outputs": []
    },
    {
      "cell_type": "code",
      "source": [
        "# Modified Training loop\n",
        "def rehearsal_kd_train_wandb(model, train_loader, optimizer, criterion, device, epoch):\n",
        "    step_ct = 0\n",
        "    n_steps_per_epoch = math.ceil(len(train_loader.dataset) / train_loader.batch_size)\n",
        "    memory_buffer = MemoryBuffer(size=800)\n",
        "    teacher_model = None\n",
        "\n",
        "    model.train()\n",
        "\n",
        "    for step, (images, labels) in tqdm(enumerate(train_loader), ncols=80,  desc=\"Epoch {}\".format(epoch)):\n",
        "        images, labels = images.to(device), labels.to(device)\n",
        "        optimizer.zero_grad()\n",
        "        outputs = model(images)\n",
        "        loss = criterion(outputs, labels)\n",
        "\n",
        "        # Knowledge Distillation Loss\n",
        "        if teacher_model:\n",
        "            with torch.no_grad():\n",
        "                teacher_outputs = teacher_model(images.to(device))\n",
        "            loss += 0.5 * distillation_loss(outputs[:, :teacher_outputs.shape[1]], teacher_outputs, temperature=2.0)\n",
        "\n",
        "        # Rehearsal Memory Loss\n",
        "        if memory_buffer.memory:\n",
        "            mem_samples = memory_buffer.get_samples(train_loader.batch_size * 2)\n",
        "            mem_images, mem_labels = zip(*mem_samples)\n",
        "            mem_images = torch.stack(mem_images).to(device)\n",
        "            mem_labels = torch.tensor(mem_labels).to(device)\n",
        "            mem_outputs = model(mem_images)\n",
        "            loss += 0.2 * criterion(mem_outputs, mem_labels)\n",
        "\n",
        "        loss.backward()\n",
        "        optimizer.step()\n",
        "\n",
        "        metrics = {\"train/train_loss\": loss}\n",
        "        # metrics = {\"train/train_loss\": loss,\n",
        "        #             \"train/epoch\": (step + 1 + (n_steps_per_epoch * epoch)) / n_steps_per_epoch}\n",
        "\n",
        "        if step + 1 < n_steps_per_epoch:\n",
        "          # Log train metrics to wandb\n",
        "          wandb.log(metrics)\n",
        "        step_ct += 1\n",
        "\n",
        "# Training loop for modified incremental learning\n",
        "def rehearsal_kd_incremental_learning_wandb(model, train_dataset, train_target, test_dataset, test_target,\n",
        "                         num_tasks, classes_per_task, batch_size, num_epochs, lr, device, non_incremental = False):\n",
        "    nclasses = len(np.unique(train_target))\n",
        "    all_classes = list(range(nclasses))\n",
        "    criterion = nn.CrossEntropyLoss()\n",
        "    current_classes = []\n",
        "    accuracies = []\n",
        "\n",
        "\n",
        "    # Copy your config\n",
        "    config = wandb.config\n",
        "\n",
        "    wandb.define_metric(\"task\")\n",
        "    wandb.define_metric(\"incremental_accuracy\", step_metric=\"task\")\n",
        "\n",
        "    for task in range(num_tasks):\n",
        "        if non_incremental == True: # Learn from all available data\n",
        "            task_classes = all_classes[0 : (task + 1) * classes_per_task]\n",
        "            current_classes = task_classes\n",
        "            model.apply(initialize_weights)\n",
        "        else:\n",
        "            task_classes = all_classes[task * classes_per_task : (task + 1) * classes_per_task]\n",
        "            current_classes.extend(task_classes)\n",
        "\n",
        "        train_loader = create_dataloader(train_dataset, train_target, task_classes, batch_size, shuffle = True)\n",
        "        test_loader = create_dataloader(test_dataset, test_target, current_classes, batch_size, shuffle = False)\n",
        "\n",
        "        if task == 0 or non_incremental == True:\n",
        "            model.fc = nn.Linear(model.fc.in_features, len(current_classes)).to(device)\n",
        "        else:\n",
        "            # Expand the output layer for new classes\n",
        "            old_weight = model.fc.weight.data\n",
        "            old_bias = model.fc.bias.data\n",
        "            model.fc = nn.Linear(model.fc.in_features, len(current_classes)).to(device)\n",
        "            model.fc.weight.data[:len(old_weight)] = old_weight * (len(current_classes) / len(old_weight))\n",
        "            model.fc.bias.data[:len(old_bias)] = old_bias\n",
        "            #model.fc.weight.data[:len(old_weight)] = old_weight\n",
        "            #model.fc.bias.data[:len(old_bias)] = old_bias\n",
        "\n",
        "        optimizer = optim.SGD(model.parameters(), lr=lr, momentum=0.9, weight_decay=5e-4)\n",
        "        optimizer = torch.optim.Adam(model.parameters(), lr=lr)\n",
        "        scheduler = lr_scheduler.StepLR(optimizer, step_size=5, gamma=0.5)\n",
        "\n",
        "        print(f\"Starting Task {task+1} - Training on classes: {task_classes}\")\n",
        "        for epoch in range(num_epochs): # Adjust number of epochs\n",
        "            # If logging training (but not incremental)\n",
        "            rehearsal_kd_train_wandb(model, train_loader, optimizer, criterion, device, epoch)\n",
        "\n",
        "            scheduler.step()\n",
        "            accuracy = evaluate(model, train_loader, device)\n",
        "            print(f\"Task {task+1}, Epoch {epoch+1}: Accuracy Train = {accuracy:.2f}%\")\n",
        "\n",
        "            val_metrics = {\"val/val_accuracy\": accuracy}\n",
        "            #wandb.log({**val_metrics})\n",
        "\n",
        "        accuracy = evaluate(model, test_loader, device)\n",
        "        accuracies.append(accuracy)\n",
        "        print(f\"Task {task+1}: Accuracy Test = {accuracy:.2f}%\")\n",
        "\n",
        "        incremental_metrics = {\"incremental_accuracy\": accuracy, \"task\": task}\n",
        "        wandb.log({**incremental_metrics})\n",
        "\n",
        "        # Log train and validation metrics to wandb\n",
        "\n",
        "        # Update teacher model and memory buffer\n",
        "        if task == 0:  # For the first task, initialize the teacher model\n",
        "            teacher_model = copy.deepcopy(model)\n",
        "        else:\n",
        "            # Ensure teacher model output layer matches the student model's new architecture\n",
        "            teacher_model.fc = nn.Linear(model.fc.in_features, model.fc.out_features).to(device)\n",
        "\n",
        "            # Copy the entire model's state dictionary with mismatches ignored\n",
        "            teacher_model.load_state_dict(model.state_dict(), strict=False)\n",
        "\n",
        "    return accuracies\n",
        "\n"
      ],
      "metadata": {
        "id": "fOhX_kvNBCfo"
      },
      "execution_count": 25,
      "outputs": []
    },
    {
      "cell_type": "code",
      "source": [
        "#############################################\n",
        "## Rehearsal + KD\n",
        "####\n",
        "# initialise a wandb run\n",
        "run = wandb.init(\n",
        "    project=\"GTSRB-CIL\",\n",
        "    name = \"Rehearsal + KD\",\n",
        "    config={\n",
        "        \"epochs\": num_epochs,\n",
        "        \"batch_size\": batch_size,\n",
        "        \"num_tasks\": num_tasks,\n",
        "        \"classes_per_task\": classes_per_task,\n",
        "        \"lr\": lr,\n",
        "        })\n",
        "\n",
        "# Incremental with Reheasal\n",
        "model = copy.deepcopy(copy_model)\n",
        "rehearsal_kd_incremental_learning_wandb(model, train_dataset, train_target, test_dataset, test_target,\n",
        "                      num_tasks, classes_per_task, batch_size, num_epochs, lr, device)\n",
        "wandb.finish()\n"
      ],
      "metadata": {
        "colab": {
          "base_uri": "https://localhost:8080/",
          "height": 1000
        },
        "id": "lwU6hMxP1nMv",
        "outputId": "93b8a1ef-d251-4a60-bd20-b2b0023d0e67"
      },
      "execution_count": 27,
      "outputs": [
        {
          "output_type": "display_data",
          "data": {
            "text/plain": [
              "<IPython.core.display.HTML object>"
            ],
            "text/html": [
              "Tracking run with wandb version 0.19.5"
            ]
          },
          "metadata": {}
        },
        {
          "output_type": "display_data",
          "data": {
            "text/plain": [
              "<IPython.core.display.HTML object>"
            ],
            "text/html": [
              "Run data is saved locally in <code>/content/wandb/run-20250130_132609-d8ktg653</code>"
            ]
          },
          "metadata": {}
        },
        {
          "output_type": "display_data",
          "data": {
            "text/plain": [
              "<IPython.core.display.HTML object>"
            ],
            "text/html": [
              "Syncing run <strong><a href='https://wandb.ai/rodrigozuiani-ensta-paris/GTSRB-CIL/runs/d8ktg653' target=\"_blank\">Rehearsal + KD</a></strong> to <a href='https://wandb.ai/rodrigozuiani-ensta-paris/GTSRB-CIL' target=\"_blank\">Weights & Biases</a> (<a href='https://wandb.me/developer-guide' target=\"_blank\">docs</a>)<br>"
            ]
          },
          "metadata": {}
        },
        {
          "output_type": "display_data",
          "data": {
            "text/plain": [
              "<IPython.core.display.HTML object>"
            ],
            "text/html": [
              " View project at <a href='https://wandb.ai/rodrigozuiani-ensta-paris/GTSRB-CIL' target=\"_blank\">https://wandb.ai/rodrigozuiani-ensta-paris/GTSRB-CIL</a>"
            ]
          },
          "metadata": {}
        },
        {
          "output_type": "display_data",
          "data": {
            "text/plain": [
              "<IPython.core.display.HTML object>"
            ],
            "text/html": [
              " View run at <a href='https://wandb.ai/rodrigozuiani-ensta-paris/GTSRB-CIL/runs/d8ktg653' target=\"_blank\">https://wandb.ai/rodrigozuiani-ensta-paris/GTSRB-CIL/runs/d8ktg653</a>"
            ]
          },
          "metadata": {}
        },
        {
          "output_type": "stream",
          "name": "stdout",
          "text": [
            "Starting Task 1 - Training on classes: [0, 1, 2, 3, 4, 5, 6, 7]\n"
          ]
        },
        {
          "output_type": "stream",
          "name": "stderr",
          "text": [
            "Epoch 0: 125it [00:25,  4.92it/s]\n",
            "100%|█████████████████████████████████████████| 125/125 [00:11<00:00, 10.66it/s]\n"
          ]
        },
        {
          "output_type": "stream",
          "name": "stdout",
          "text": [
            "Task 1, Epoch 1: Accuracy Train = 96.87%\n"
          ]
        },
        {
          "output_type": "stream",
          "name": "stderr",
          "text": [
            "100%|███████████████████████████████████████████| 61/61 [00:06<00:00,  9.10it/s]\n"
          ]
        },
        {
          "output_type": "stream",
          "name": "stdout",
          "text": [
            "Task 1: Accuracy Test = 88.86%\n",
            "Starting Task 2 - Training on classes: [8, 9, 10, 11, 12, 13, 14, 15]\n"
          ]
        },
        {
          "output_type": "stream",
          "name": "stderr",
          "text": [
            "Epoch 0: 126it [00:23,  5.45it/s]\n",
            "100%|█████████████████████████████████████████| 126/126 [00:13<00:00,  9.52it/s]\n"
          ]
        },
        {
          "output_type": "stream",
          "name": "stdout",
          "text": [
            "Task 2, Epoch 1: Accuracy Train = 99.16%\n"
          ]
        },
        {
          "output_type": "stream",
          "name": "stderr",
          "text": [
            "100%|█████████████████████████████████████████| 122/122 [00:12<00:00,  9.50it/s]\n"
          ]
        },
        {
          "output_type": "stream",
          "name": "stdout",
          "text": [
            "Task 2: Accuracy Test = 48.01%\n",
            "Starting Task 3 - Training on classes: [16, 17, 18, 19, 20, 21, 22, 23]\n"
          ]
        },
        {
          "output_type": "stream",
          "name": "stderr",
          "text": [
            "Epoch 0: 49it [00:09,  5.19it/s]\n",
            "100%|███████████████████████████████████████████| 49/49 [00:05<00:00,  9.35it/s]\n"
          ]
        },
        {
          "output_type": "stream",
          "name": "stdout",
          "text": [
            "Task 3, Epoch 1: Accuracy Train = 89.29%\n"
          ]
        },
        {
          "output_type": "stream",
          "name": "stderr",
          "text": [
            "100%|█████████████████████████████████████████| 144/144 [00:14<00:00,  9.72it/s]\n"
          ]
        },
        {
          "output_type": "stream",
          "name": "stdout",
          "text": [
            "Task 3: Accuracy Test = 11.48%\n",
            "Starting Task 4 - Training on classes: [24, 25, 26, 27, 28, 29, 30, 31]\n"
          ]
        },
        {
          "output_type": "stream",
          "name": "stderr",
          "text": [
            "Epoch 0: 50it [00:08,  5.95it/s]\n",
            "100%|███████████████████████████████████████████| 50/50 [00:06<00:00,  7.92it/s]\n"
          ]
        },
        {
          "output_type": "stream",
          "name": "stdout",
          "text": [
            "Task 4, Epoch 1: Accuracy Train = 76.92%\n"
          ]
        },
        {
          "output_type": "stream",
          "name": "stderr",
          "text": [
            "100%|█████████████████████████████████████████| 167/167 [00:17<00:00,  9.80it/s]\n"
          ]
        },
        {
          "output_type": "stream",
          "name": "stdout",
          "text": [
            "Task 4: Accuracy Test = 9.58%\n",
            "Starting Task 5 - Training on classes: [32, 33, 34, 35, 36, 37, 38, 39]\n"
          ]
        },
        {
          "output_type": "stream",
          "name": "stderr",
          "text": [
            "Epoch 0: 60it [00:10,  5.66it/s]\n",
            "100%|███████████████████████████████████████████| 60/60 [00:06<00:00,  9.28it/s]\n"
          ]
        },
        {
          "output_type": "stream",
          "name": "stdout",
          "text": [
            "Task 5, Epoch 1: Accuracy Train = 94.10%\n"
          ]
        },
        {
          "output_type": "stream",
          "name": "stderr",
          "text": [
            "100%|█████████████████████████████████████████| 194/194 [00:19<00:00,  9.99it/s]"
          ]
        },
        {
          "output_type": "stream",
          "name": "stdout",
          "text": [
            "Task 5: Accuracy Test = 11.98%\n"
          ]
        },
        {
          "output_type": "stream",
          "name": "stderr",
          "text": [
            "\n"
          ]
        },
        {
          "output_type": "display_data",
          "data": {
            "text/plain": [
              "<IPython.core.display.HTML object>"
            ],
            "text/html": []
          },
          "metadata": {}
        },
        {
          "output_type": "display_data",
          "data": {
            "text/plain": [
              "<IPython.core.display.HTML object>"
            ],
            "text/html": [
              "<br>    <style><br>        .wandb-row {<br>            display: flex;<br>            flex-direction: row;<br>            flex-wrap: wrap;<br>            justify-content: flex-start;<br>            width: 100%;<br>        }<br>        .wandb-col {<br>            display: flex;<br>            flex-direction: column;<br>            flex-basis: 100%;<br>            flex: 1;<br>            padding: 10px;<br>        }<br>    </style><br><div class=\"wandb-row\"><div class=\"wandb-col\"><h3>Run history:</h3><br/><table class=\"wandb\"><tr><td>incremental_accuracy</td><td>█▄▁▁▁</td></tr><tr><td>task</td><td>▁▃▅▆█</td></tr><tr><td>train/train_loss</td><td>▃▃▂▁▁▁▁▁▁▁▃▃▂▂▁▁▁▁▁▁▁▁▅▅▂▂▂▂▂▂▃▃▃█▃▃▃▂▁▁</td></tr></table><br/></div><div class=\"wandb-col\"><h3>Run summary:</h3><br/><table class=\"wandb\"><tr><td>incremental_accuracy</td><td>11.9774</td></tr><tr><td>task</td><td>4</td></tr><tr><td>train/train_loss</td><td>0.38132</td></tr></table><br/></div></div>"
            ]
          },
          "metadata": {}
        },
        {
          "output_type": "display_data",
          "data": {
            "text/plain": [
              "<IPython.core.display.HTML object>"
            ],
            "text/html": [
              " View run <strong style=\"color:#cdcd00\">Rehearsal + KD</strong> at: <a href='https://wandb.ai/rodrigozuiani-ensta-paris/GTSRB-CIL/runs/d8ktg653' target=\"_blank\">https://wandb.ai/rodrigozuiani-ensta-paris/GTSRB-CIL/runs/d8ktg653</a><br> View project at: <a href='https://wandb.ai/rodrigozuiani-ensta-paris/GTSRB-CIL' target=\"_blank\">https://wandb.ai/rodrigozuiani-ensta-paris/GTSRB-CIL</a><br>Synced 5 W&B file(s), 0 media file(s), 0 artifact file(s) and 0 other file(s)"
            ]
          },
          "metadata": {}
        },
        {
          "output_type": "display_data",
          "data": {
            "text/plain": [
              "<IPython.core.display.HTML object>"
            ],
            "text/html": [
              "Find logs at: <code>./wandb/run-20250130_132609-d8ktg653/logs</code>"
            ]
          },
          "metadata": {}
        }
      ]
    },
    {
      "cell_type": "code",
      "source": [
        "# Debugging\n",
        "all_preds = []\n",
        "all_labels = []\n",
        "with torch.no_grad():\n",
        "    for images, labels in test_loader:\n",
        "        images = images.to(device)\n",
        "        outputs = model(images)\n",
        "        preds = outputs.argmax(dim=1).cpu().numpy()\n",
        "        all_preds.extend(preds)\n",
        "        all_labels.extend(labels.numpy())\n",
        "\n",
        "print(\"Class Distribution in Predictions:\", np.bincount(all_preds))"
      ],
      "metadata": {
        "colab": {
          "base_uri": "https://localhost:8080/"
        },
        "id": "oYGE31fBWGuO",
        "outputId": "ed38ec85-228f-4074-d5f9-9bd49d31ee6e"
      },
      "execution_count": 29,
      "outputs": [
        {
          "output_type": "stream",
          "name": "stdout",
          "text": [
            "Class Distribution in Predictions: [    0     0     0     0     0     0     0     0     0     0     0     0\n",
            "     0     0     0     0     0     0     0     0     0     0     0     0\n",
            "     0     0     0     0     0     0     0     0 10839  2936   222  2259\n",
            "   368   333  9504   179]\n"
          ]
        }
      ]
    },
    {
      "cell_type": "code",
      "source": [
        "print(\"Predictions:\", np.unique(all_preds, return_counts=True))\n",
        "print(\"Ground Truth:\", np.unique(all_labels, return_counts=True))"
      ],
      "metadata": {
        "colab": {
          "base_uri": "https://localhost:8080/"
        },
        "id": "It3QVpTsY0-M",
        "outputId": "dc637037-3d38-48f0-c191-342f37fb408d"
      },
      "execution_count": 28,
      "outputs": [
        {
          "output_type": "stream",
          "name": "stdout",
          "text": [
            "Predictions: (array([ 6,  7, 13, 17, 32, 33, 34, 35, 36, 37, 38, 39]), array([  38,    9,   31,    1, 6157, 5828,  302, 2943,  357, 2362, 7850,\n",
            "        762]))\n",
            "Ground Truth: (array([ 0,  1,  2,  3,  4,  5,  6,  7,  8,  9, 10, 11, 12, 13, 14, 15, 16,\n",
            "       17, 18, 19, 20, 21, 22, 23, 24, 25, 26, 27, 28, 29, 30, 31, 32, 33,\n",
            "       34, 35, 36, 37, 38, 39, 40, 41, 42]), array([ 150, 1500, 1500,  960, 1320, 1260,  300,  960,  960,  990, 1350,\n",
            "        900, 1410, 1440,  540,  420,  300,  750,  810,  150,  240,  240,\n",
            "        270,  360,  180, 1020,  420,  180,  360,  180,  300,  540,  180,\n",
            "        480,  300,  810,  270,  150, 1380,  210,  240,  180,  180]))\n"
          ]
        }
      ]
    }
  ],
  "metadata": {
    "accelerator": "GPU",
    "colab": {
      "gpuType": "T4",
      "provenance": [],
      "toc_visible": true
    },
    "kernelspec": {
      "display_name": "Python 3",
      "name": "python3"
    }
  },
  "nbformat": 4,
  "nbformat_minor": 0
}